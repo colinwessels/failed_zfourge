{
 "cells": [
  {
   "cell_type": "code",
   "execution_count": 17,
   "id": "b1c9942d-44c2-475b-a298-3040026c1335",
   "metadata": {},
   "outputs": [
    {
     "name": "stdout",
     "output_type": "stream",
     "text": [
      "361 ms ± 23.4 ms per loop (mean ± std. dev. of 7 runs, 1 loop each)\n"
     ]
    }
   ],
   "source": [
    "%%timeit\n",
    "%run 'zfourge pre-processing_pandas.ipynb'"
   ]
  },
  {
   "cell_type": "code",
   "execution_count": 19,
   "id": "5e24c85d",
   "metadata": {},
   "outputs": [
    {
     "name": "stdout",
     "output_type": "stream",
     "text": [
      "3.51 s ± 39.7 ms per loop (mean ± std. dev. of 7 runs, 1 loop each)\n"
     ]
    }
   ],
   "source": [
    "%%timeit\n",
    "%run '[old] zfourge pre-processing.ipynb'"
   ]
  },
  {
   "cell_type": "code",
   "execution_count": null,
   "id": "04e18ce9",
   "metadata": {},
   "outputs": [],
   "source": []
  }
 ],
 "metadata": {
  "kernelspec": {
   "display_name": "Python 3 (ipykernel)",
   "language": "python",
   "name": "python3"
  }
 },
 "nbformat": 4,
 "nbformat_minor": 5
}
