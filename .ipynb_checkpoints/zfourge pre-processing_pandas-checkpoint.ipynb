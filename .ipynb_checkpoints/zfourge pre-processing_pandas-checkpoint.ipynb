{
 "cells": [
  {
   "cell_type": "raw",
   "id": "e6370794-d98b-49e4-b41b-626eecdfcf12",
   "metadata": {
    "editable": true,
    "raw_mimetype": "",
    "slideshow": {
     "slide_type": ""
    },
    "tags": []
   },
   "source": [
    "Colin Wessels Nov 15 2024\n",
    "\n",
    "Rework zfourge pre-processing script to use the pandas library instead of astropy.table"
   ]
  },
  {
   "cell_type": "code",
   "execution_count": 1,
   "id": "d4ff5523-1679-4c99-ad41-2fc14b5aec98",
   "metadata": {},
   "outputs": [],
   "source": [
    "#from astropy.io import ascii\n",
    "#from astropy.table import Table\n",
    "import os\n",
    "from astropy.io import ascii\n",
    "from astropy.table import Table\n",
    "import pandas as pd\n",
    "import numpy as np"
   ]
  },
  {
   "cell_type": "code",
   "execution_count": 2,
   "id": "d4255c85-87ac-4bb3-bc66-f676fd71fe1a",
   "metadata": {},
   "outputs": [],
   "source": [
    "# Declerations\n",
    "failed_cdfs_dir = os.path.join('..', 'ZFOURGE', 'data', 'cdfs_cigale_failed_ids') # List of failed galaxies by ZFOURGE ID, seperated by \\n\n",
    "cdfs_dir = os.path.join('..', 'ZFOURGE', 'data', 'cdfs', 'cdfs.v1.6.11.cat') # ZFOURGE CDFS field photometry data\n",
    "cdfs_z_dir = os.path.join('..', 'ZFOURGE', 'data', 'cdfs', 'cdfs.v1.6.9.zout') # Output of Eazy, contains redshift data\n",
    "filter_match = os.path.join('..', 'ZFOURGE', 'data', 'filter_match_table') # An ASCII table with the ZFOURGE filter name in 1st collumn, and filter transmission file name in 2nd col.\n",
    "output_dir = os.path.join('..', 'ZFOURGE', 'data', 'working_sample') # Directory for output ascii table\n",
    "\n",
    "output_failed_galaxies = False # True: will output all galaxies with ids found in list of failed ids.\n",
    "only_zfourge_filters = True # True: will only use j1, j2, j3, hs, hl, and ks bands. False: uses most avalbile bands\n",
    "add_random_successful_galaxy = True # True: will add a randomly selected successful galaxy to output\n",
    "use_z_spec = True # True: will replace redshift in output with z_spec if value != -99.0\n",
    "manual_galaxy_ids = [44] # Optional list of manually selected galaxy ids to add to output. Expected to be non-failed galxies."
   ]
  },
  {
   "cell_type": "code",
   "execution_count": 3,
   "id": "42645bd9-88ba-4e85-9d5c-81b18675fbfc",
   "metadata": {},
   "outputs": [],
   "source": [
    "def Read_Ascii(dir):\n",
    "    # Returns dataframe\n",
    "    \n",
    "    with open(dir, 'r') as table:\n",
    "        header = table.readline()[1:].split() # slice to skip over # character\n",
    "        #header = [''.join([ch if ch.isalpha() else '' for ch in elem]) for elem in header] # removes non-alphabt characters such as _\n",
    "    return pd.read_csv(dir, names=header, encoding='ascii', comment='#', delim_whitespace=True)"
   ]
  },
  {
   "cell_type": "code",
   "execution_count": 4,
   "id": "e6286780-bdda-4735-b419-6f25823c0eaa",
   "metadata": {},
   "outputs": [
    {
     "name": "stdout",
     "output_type": "stream",
     "text": [
      "          id         x         y         ra        dec  SEflags  iso_area  \\\n",
      "0          1  4078.527   203.090  53.100105 -27.966728       19    5484.0   \n",
      "1          2  6292.975    55.927  52.995632 -27.972803        2     315.0   \n",
      "2          3  1791.772    51.199  53.207989 -27.973034        2     375.0   \n",
      "3          4  4181.315   176.410  53.095257 -27.967840        3    1060.0   \n",
      "4          5  5997.950    48.860  53.009548 -27.973110        0     219.0   \n",
      "...      ...       ...       ...        ...        ...      ...       ...   \n",
      "30906  30907  4150.499  7668.344  53.096783 -27.655676        0     124.0   \n",
      "30907  30908  3050.447  7621.582  53.148533 -27.657625        0     195.0   \n",
      "30908  30909  4385.049  7547.789  53.085751 -27.660698        0      18.0   \n",
      "30909  30910  3221.845  7527.777  53.140469 -27.661535        0      36.0   \n",
      "30910  30911  3362.124  7855.663  53.133869 -27.647873        0      68.0   \n",
      "\n",
      "       fap_Ksall  eap_Ksall    apcorr  ...  wmin_jhk  wmin_hst  wmin_irac  \\\n",
      "0      73.393000   0.263729  0.996778  ...       0.0       0.0     1330.8   \n",
      "1       9.561428   0.251456  1.058802  ...       0.0       0.0        0.0   \n",
      "2      10.821210   0.263729  1.048642  ...       0.0       0.0        0.0   \n",
      "3      76.361450   0.263729  1.001701  ...       0.0       0.0        0.0   \n",
      "4      26.528060   0.251456  1.097179  ...       0.0       0.0        0.0   \n",
      "...          ...        ...       ...  ...       ...       ...        ...   \n",
      "30906   3.934965   0.231306  1.108052  ...       0.0       0.0     3497.2   \n",
      "30907  10.538200   0.202271  1.095816  ...       0.0       0.0    17912.0   \n",
      "30908   0.742744   0.222892  1.216900  ...       0.0       0.0    10068.0   \n",
      "30909   0.957734   0.196572  1.289988  ...       0.0       0.0    20826.0   \n",
      "30910   2.149494   0.222892  1.091349  ...       0.0       0.0     3163.0   \n",
      "\n",
      "       wmin_all  star  nearstar  use         snr  use_nosnr  z_spec  \n",
      "0          0.10     0         0    0  251.556500          0   -99.0  \n",
      "1          0.00     0         0    0   41.657000          0   -99.0  \n",
      "2          0.00     0         0    0   44.347300          0   -99.0  \n",
      "3          0.00     0         0    0  276.735100          0   -99.0  \n",
      "4          0.00     0         0    0  155.910000          0   -99.0  \n",
      "...         ...   ...       ...  ...         ...        ...     ...  \n",
      "30906      0.13     0         0    0   20.555150          0   -99.0  \n",
      "30907      0.17     0         0    1   82.423640          1   -99.0  \n",
      "30908      0.14     0         0    0    4.709752          0   -99.0  \n",
      "30909      0.18     0         0    1    8.801145          1   -99.0  \n",
      "30910      0.14     0         0    0   13.636430          0   -99.0  \n",
      "\n",
      "[30911 rows x 157 columns]\n"
     ]
    }
   ],
   "source": [
    "with open(failed_cdfs_dir, 'r') as failed_ids:\n",
    "    failed_cdfs = [int(id) for id in failed_ids.readlines()[1:]] # skip header row\n",
    "\n",
    "cdfs_table = Read_Ascii(cdfs_dir)\n",
    "print(cdfs_table)"
   ]
  },
  {
   "cell_type": "code",
   "execution_count": 5,
   "id": "2c28f40e-4087-4b67-8bb3-f4c7bdd24a90",
   "metadata": {},
   "outputs": [
    {
     "name": "stdout",
     "output_type": "stream",
     "text": [
      "        id         x         y         ra        dec  SEflags  iso_area  \\\n",
      "0        4  4181.315   176.410  53.095257 -27.967840        3    1060.0   \n",
      "1       64  4111.995   178.501  53.098526 -27.967752        3      93.0   \n",
      "2       85  6439.011   226.945  52.988751 -27.965671        3     158.0   \n",
      "3      283  5402.015   365.498  53.037674 -27.959938        0      16.0   \n",
      "4      322  2583.467   476.946  53.170631 -27.955313       19     352.0   \n",
      "..     ...       ...       ...        ...        ...      ...       ...   \n",
      "552  30767  5007.865  7492.322  53.056450 -27.662998        3      35.0   \n",
      "553  30845  2812.941  7915.292  53.159702 -27.645386        0      88.0   \n",
      "554  30886  4189.733  7594.125  53.094936 -27.658770        3     387.0   \n",
      "555     44  5235.337   240.340  53.045532 -27.965157        0     569.0   \n",
      "556  19610  5753.652  4896.251  53.021263 -27.771145        0       8.0   \n",
      "\n",
      "       fap_Ksall  eap_Ksall    apcorr  ...  wmin_jhk  wmin_hst  wmin_irac  \\\n",
      "0      76.361450   0.263729  1.001701  ...      0.00       0.0       0.00   \n",
      "1       1.707977   0.263729  1.071505  ...      0.00       0.0       0.00   \n",
      "2       2.612965   0.263729  1.029757  ...      0.00       0.0       0.00   \n",
      "3       0.828510   0.263729  1.177909  ...      0.00       0.0       0.00   \n",
      "4       1.557503   0.240751  1.001755  ...      0.00       0.0       0.00   \n",
      "..           ...        ...       ...  ...       ...       ...        ...   \n",
      "552     1.035053   0.263729  1.146539  ...      0.00       0.0     852.93   \n",
      "553     4.176914   0.240751  1.151067  ...      0.00       0.0    9560.60   \n",
      "554  2149.761000   0.231306  1.094672  ...      0.00       0.0    9044.90   \n",
      "555    10.943880   0.263729  1.035001  ...      0.00       0.0       0.00   \n",
      "556     0.313167   0.101136  1.277066  ...      1.11       0.0   55002.00   \n",
      "\n",
      "     wmin_all  star  nearstar  use           snr  use_nosnr  z_spec  \n",
      "0        0.00     0         0    0    276.735100          0   -99.0  \n",
      "1        0.00     0         0    0      5.546494          0   -99.0  \n",
      "2        0.00     0         0    0     11.090470          0   -99.0  \n",
      "3        0.00     0         0    0      3.875407          0   -99.0  \n",
      "4        0.00     0         0    0      6.020371          0   -99.0  \n",
      "..        ...   ...       ...  ...           ...        ...     ...  \n",
      "552      0.10     0         0    0      5.109120          0   -99.0  \n",
      "553      0.12     0         0    0     29.373460          0   -99.0  \n",
      "554      0.13     0         1    0  13387.960000          0   -99.0  \n",
      "555      0.00     0         0    0     39.745270          0   -99.0  \n",
      "556      0.68     0         0    0      4.656879          1   -99.0  \n",
      "\n",
      "[557 rows x 157 columns]\n"
     ]
    }
   ],
   "source": [
    "# Adds failed galxies when true\n",
    "if output_failed_galaxies == True:\n",
    "    failed_cdfs_table = cdfs_table[cdfs_table['id'].isin(failed_cdfs)]\n",
    "        \n",
    "# Adds manually selected galaxies when provided\n",
    "failed_cdfs_table = pd.concat([failed_cdfs_table, \n",
    "                               cdfs_table[cdfs_table['id'].isin(manual_galaxy_ids)]], \n",
    "                               ignore_index=True)\n",
    "if any(item in failed_cdfs for item in manual_galaxy_ids):\n",
    "    print(\"Manually selected galaxy is in list of galaxies. This galaxy may appear twice in output.\")\n",
    "\n",
    "# Adds random galaxy not already included when true\n",
    "if add_random_successful_galaxy == True:\n",
    "    i = int(np.random.rand()*len(cdfs_table)) # i <- [0, 30911)\n",
    "    while i+1 in failed_cdfs: # +1 b/c row number (i) is 1 less than id number.\n",
    "        i = int(np.random.rand()*len(cdfs_table))\n",
    "    failed_cdfs_table = pd.concat([failed_cdfs_table, cdfs_table.loc[i:i]], ignore_index=True)\n",
    "\n",
    "failed_cdfs_table.sort_values('id') # **why doesn't this work**\n",
    "print(failed_cdfs_table)"
   ]
  },
  {
   "cell_type": "code",
   "execution_count": 6,
   "id": "42726b25-2166-496f-837b-b8170211ed7d",
   "metadata": {},
   "outputs": [
    {
     "name": "stdout",
     "output_type": "stream",
     "text": [
      "          id  z_spec    z_a   z_m1       chi_a    z_p         chi_p   z_m2  \\\n",
      "3          4   -99.0  3.812  3.815   662.38530  3.812  6.623853e+02  3.561   \n",
      "43        44   -99.0  0.062  0.060    14.13757  0.062  1.413757e+01  0.060   \n",
      "63        64   -99.0  7.370  8.492  1340.59100  7.370  1.340591e+03  7.327   \n",
      "84        85   -99.0  0.356  0.338    92.12006  0.362  9.214599e+01  0.343   \n",
      "282      283   -99.0  1.000  0.948    13.45585  1.000  1.345585e+01  0.957   \n",
      "...      ...     ...    ...    ...         ...    ...           ...    ...   \n",
      "30713  30714   -99.0  6.207  6.207  1070.11400  0.005  1.000000e+08  0.005   \n",
      "30765  30766   -99.0  3.041  3.049   440.28820  3.041  4.402882e+02  3.041   \n",
      "30766  30767   -99.0  2.883  2.882   236.87310  2.883  2.368731e+02  2.882   \n",
      "30844  30845   -99.0  6.923  6.923   121.09890  6.923  1.210989e+02  6.923   \n",
      "30885  30886   -99.0  5.206  5.213   926.91580  0.005  1.000000e+08  0.005   \n",
      "\n",
      "        odds    l68    u68    l95    u95    l99    u99  nfilt           q_z  \\\n",
      "3      1.000  2.877  3.838  2.857  3.847  2.854  3.866     17     47.859700   \n",
      "43     1.000  0.054  0.067  0.049  0.069  0.049  0.072     22      0.017775   \n",
      "63     1.000  7.113  7.520  6.888  7.772  6.721  8.166     17    138.534000   \n",
      "84     1.000  0.300  0.377  0.266  0.396  0.193  0.418     20      1.238160   \n",
      "282    0.999  0.865  1.024  0.709  1.104  0.561  1.172     22      0.510339   \n",
      "...      ...    ...    ...    ...    ...    ...    ...    ...           ...   \n",
      "30713  1.000  0.005  0.012  0.005  0.012  0.005  0.013     20  44352.200000   \n",
      "30765  1.000  3.017  3.065  3.012  3.071  3.011  3.071     21      1.476980   \n",
      "30766  1.000  2.859  2.906  2.847  2.911  2.835  2.912     23      0.912057   \n",
      "30844  1.000  6.877  6.970  6.866  6.981  6.865  6.983     12      1.592380   \n",
      "30885  1.000  0.005  0.012  0.005  0.012  0.005  0.013     20  44352.200000   \n",
      "\n",
      "       z_peak  peak_prob    z_mc  \n",
      "3      3.8120      0.724  3.8052  \n",
      "43     0.0604      1.000  0.0590  \n",
      "63     7.3259      0.998  7.4503  \n",
      "84     0.3429      0.999  0.3702  \n",
      "282    0.9579      0.998  0.8686  \n",
      "...       ...        ...     ...  \n",
      "30713  0.0050      0.000  0.0087  \n",
      "30765  3.0410      0.499  3.0443  \n",
      "30766  2.8805      0.533  2.8890  \n",
      "30844  6.9235      0.499  6.9136  \n",
      "30885  0.0050      0.000  0.0096  \n",
      "\n",
      "[557 rows x 20 columns]\n"
     ]
    }
   ],
   "source": [
    "# Access and parse redshift data\n",
    "cdfs_z_table = Read_Ascii(cdfs_z_dir)\n",
    "failed_cdfs_z_table = cdfs_z_table[cdfs_z_table['id'].isin(failed_cdfs_table['id'])]\n",
    "print(failed_cdfs_z_table)"
   ]
  },
  {
   "cell_type": "code",
   "execution_count": 19,
   "id": "297f25a3-48f9-451f-b288-a66f4daaa625",
   "metadata": {},
   "outputs": [
    {
     "name": "stdout",
     "output_type": "stream",
     "text": [
      "        id  z_peak\n",
      "0        4  3.8120\n",
      "1       64  7.3259\n",
      "2       85  0.3429\n",
      "3      283  0.9579\n",
      "4      322  1.6893\n",
      "..     ...     ...\n",
      "552  30767  2.8805\n",
      "553  30845  6.9235\n",
      "554  30886  0.0050\n",
      "555     44  0.0604\n",
      "556  19610  0.4491\n",
      "\n",
      "[557 rows x 2 columns]\n"
     ]
    }
   ],
   "source": [
    "# Defines output table and adds id and redshift columns\n",
    "output = pd.merge(failed_cdfs_table, failed_cdfs_z_table, how='left', on='id')\n",
    "output = output[['id', 'z_peak']] # not very efficient to delete most of the dataframe just to add everything back later\n",
    "print(output)"
   ]
  },
  {
   "cell_type": "code",
   "execution_count": 20,
   "id": "79f57155-a51a-4b74-b320-87074a033453",
   "metadata": {},
   "outputs": [
    {
     "name": "stdout",
     "output_type": "stream",
     "text": [
      "      ZFOURGE                                  CIGALE\n",
      "0      z_peak                                redshift\n",
      "1         f_B      hst-ACS_update_sep07-wfc_f435w_t81\n",
      "2         e_B  hst-ACS_update_sep07-wfc_f435w_t81_err\n",
      "3         f_I      hst-ACS_update_sep07-wfc_f775w_t81\n",
      "4         e_I  hst-ACS_update_sep07-wfc_f775w_t81_err\n",
      "..        ...                                     ...\n",
      "76  e_IRAC_45            IRAC-irac_tr2_2004-08-09_err\n",
      "77  f_IRAC_58                IRAC-irac_tr3_2004-08-09\n",
      "78  e_IRAC_58            IRAC-irac_tr3_2004-08-09_err\n",
      "79  f_IRAC_80                IRAC-irac_tr4_2004-08-09\n",
      "80  e_IRAC_80            IRAC-irac_tr4_2004-08-09_err\n",
      "\n",
      "[81 rows x 2 columns]\n"
     ]
    }
   ],
   "source": [
    "# Reads matching table\n",
    "filter_table = Read_Ascii(filter_match)\n",
    "print(filter_table)"
   ]
  },
  {
   "cell_type": "code",
   "execution_count": 21,
   "id": "c1b37259-de18-4f92-9509-6e3edf9e936b",
   "metadata": {},
   "outputs": [
    {
     "name": "stdout",
     "output_type": "stream",
     "text": [
      "        id  z_peak       f_Hs       e_Hs       f_Hl       e_Hl       f_J1  \\\n",
      "0        4  3.8120 -99.000000 -99.000000 -99.000000 -99.000000 -99.000000   \n",
      "1       64  7.3259 -99.000000 -99.000000 -99.000000 -99.000000 -99.000000   \n",
      "2       85  0.3429 -99.000000 -99.000000 -99.000000 -99.000000 -99.000000   \n",
      "3      283  0.9579 -99.000000 -99.000000 -99.000000 -99.000000 -99.000000   \n",
      "4      322  1.6893 -99.000000 -99.000000 -99.000000 -99.000000 -99.000000   \n",
      "..     ...     ...        ...        ...        ...        ...        ...   \n",
      "552  30767  2.8805 -99.000000 -99.000000 -99.000000 -99.000000 -99.000000   \n",
      "553  30845  6.9235   9.841538   1.188658   8.892500   1.012411   6.490682   \n",
      "554  30886  0.0050 -99.000000 -99.000000 -99.000000 -99.000000 -99.000000   \n",
      "555     44  0.0604 -99.000000 -99.000000 -99.000000 -99.000000 -99.000000   \n",
      "556  19610  0.4491   0.271997   0.226003   0.152502   0.239155   0.266472   \n",
      "\n",
      "          e_J1       f_J2       e_J2       f_J3       e_J3       f_Ks  \\\n",
      "0   -99.000000 -99.000000 -99.000000 -99.000000 -99.000000 -99.000000   \n",
      "1   -99.000000 -99.000000 -99.000000 -99.000000 -99.000000 -99.000000   \n",
      "2   -99.000000 -99.000000 -99.000000 -99.000000 -99.000000 -99.000000   \n",
      "3   -99.000000 -99.000000 -99.000000 -99.000000 -99.000000 -99.000000   \n",
      "4   -99.000000 -99.000000 -99.000000 -99.000000 -99.000000 -99.000000   \n",
      "..         ...        ...        ...        ...        ...        ...   \n",
      "552 -99.000000 -99.000000 -99.000000 -99.000000 -99.000000 -99.000000   \n",
      "553   0.453186   7.169417   0.778554   9.523343   0.498504 -99.000000   \n",
      "554 -99.000000 -99.000000 -99.000000 -99.000000 -99.000000 -99.000000   \n",
      "555 -99.000000 -99.000000 -99.000000 -99.000000 -99.000000 -99.000000   \n",
      "556   0.123348   0.167738   0.119052   0.194269   0.142515   1.100521   \n",
      "\n",
      "          e_Ks  \n",
      "0   -99.000000  \n",
      "1   -99.000000  \n",
      "2   -99.000000  \n",
      "3   -99.000000  \n",
      "4   -99.000000  \n",
      "..         ...  \n",
      "552 -99.000000  \n",
      "553 -99.000000  \n",
      "554 -99.000000  \n",
      "555 -99.000000  \n",
      "556   0.298471  \n",
      "\n",
      "[557 rows x 14 columns]\n"
     ]
    }
   ],
   "source": [
    "# Cell adds FourStar filters only\n",
    "if only_zfourge_filters == True:\n",
    "    zf_with_ids = pd.concat([failed_cdfs_table['id'], \n",
    "                            failed_cdfs_table.loc[:, filter_table.loc[13:24, 'ZFOURGE']]],\n",
    "                            axis=1)\n",
    "    # this is done so that the merge can be done by the id column\n",
    "    output = pd.merge(output, zf_with_ids, how='left', on='id') # do not run this more than once!!!\n",
    "    print(output)"
   ]
  },
  {
   "cell_type": "code",
   "execution_count": null,
   "id": "2d1d1e2b-2fa5-44cb-8e98-42e5d1337959",
   "metadata": {},
   "outputs": [],
   "source": [
    "# Cell adds (mostly) all filters\n",
    "#if only_zfourge_filters == False:\n",
    "#    for i in range(2, len(filter_table)): # goes through every filter in the match table\n",
    "#        output.add_column(failed_cdfs_table[filter_table['ZFOURGE'][i]], name = filter_table['CIGALE'][i])\n",
    "\n",
    "if only_zfourge_filters == False:\n",
    "    all_with_ids = pd.concat([failed_cdfs_table['id'], \n",
    "                            failed_cdfs_table.loc[:, filter_table['ZFOURGE']]],\n",
    "                            axis=1)\n",
    "    # this is done so that the merge can be done by the id column\n",
    "    output = pd.merge(output, zf_with_ids, how='left', on='id') # do not run this more than once!!!\n",
    "    print(output)"
   ]
  },
  {
   "cell_type": "code",
   "execution_count": 26,
   "id": "a6fede23-bf48-44fa-8e12-1d559a7cb0a9",
   "metadata": {},
   "outputs": [
    {
     "ename": "KeyError",
     "evalue": "\"['z_peak'] not in index\"",
     "output_type": "error",
     "traceback": [
      "\u001b[0;31m---------------------------------------------------------------------------\u001b[0m",
      "\u001b[0;31mKeyError\u001b[0m                                  Traceback (most recent call last)",
      "Cell \u001b[0;32mIn[26], line 5\u001b[0m\n\u001b[1;32m      1\u001b[0m \u001b[38;5;66;03m# Renames output to CIGALE format using matching table\u001b[39;00m\n\u001b[1;32m      2\u001b[0m \n\u001b[1;32m      3\u001b[0m \u001b[38;5;66;03m#output.rename(columns={'id':'id', 'z_peak':'redshift', 'foo':'bar'}, inplace=True)\u001b[39;00m\n\u001b[1;32m      4\u001b[0m \u001b[38;5;66;03m# TODO ^^\u001b[39;00m\n\u001b[0;32m----> 5\u001b[0m \u001b[38;5;28mprint\u001b[39m(failed_cdfs_table\u001b[38;5;241m.\u001b[39mloc[:, filter_table[\u001b[38;5;124m'\u001b[39m\u001b[38;5;124mZFOURGE\u001b[39m\u001b[38;5;124m'\u001b[39m]])\n",
      "File \u001b[0;32m~/anaconda3/lib/python3.11/site-packages/pandas/core/indexing.py:1147\u001b[0m, in \u001b[0;36m_LocationIndexer.__getitem__\u001b[0;34m(self, key)\u001b[0m\n\u001b[1;32m   1145\u001b[0m     \u001b[38;5;28;01mif\u001b[39;00m \u001b[38;5;28mself\u001b[39m\u001b[38;5;241m.\u001b[39m_is_scalar_access(key):\n\u001b[1;32m   1146\u001b[0m         \u001b[38;5;28;01mreturn\u001b[39;00m \u001b[38;5;28mself\u001b[39m\u001b[38;5;241m.\u001b[39mobj\u001b[38;5;241m.\u001b[39m_get_value(\u001b[38;5;241m*\u001b[39mkey, takeable\u001b[38;5;241m=\u001b[39m\u001b[38;5;28mself\u001b[39m\u001b[38;5;241m.\u001b[39m_takeable)\n\u001b[0;32m-> 1147\u001b[0m     \u001b[38;5;28;01mreturn\u001b[39;00m \u001b[38;5;28mself\u001b[39m\u001b[38;5;241m.\u001b[39m_getitem_tuple(key)\n\u001b[1;32m   1148\u001b[0m \u001b[38;5;28;01melse\u001b[39;00m:\n\u001b[1;32m   1149\u001b[0m     \u001b[38;5;66;03m# we by definition only have the 0th axis\u001b[39;00m\n\u001b[1;32m   1150\u001b[0m     axis \u001b[38;5;241m=\u001b[39m \u001b[38;5;28mself\u001b[39m\u001b[38;5;241m.\u001b[39maxis \u001b[38;5;129;01mor\u001b[39;00m \u001b[38;5;241m0\u001b[39m\n",
      "File \u001b[0;32m~/anaconda3/lib/python3.11/site-packages/pandas/core/indexing.py:1339\u001b[0m, in \u001b[0;36m_LocIndexer._getitem_tuple\u001b[0;34m(self, tup)\u001b[0m\n\u001b[1;32m   1336\u001b[0m \u001b[38;5;28;01mif\u001b[39;00m \u001b[38;5;28mself\u001b[39m\u001b[38;5;241m.\u001b[39m_multi_take_opportunity(tup):\n\u001b[1;32m   1337\u001b[0m     \u001b[38;5;28;01mreturn\u001b[39;00m \u001b[38;5;28mself\u001b[39m\u001b[38;5;241m.\u001b[39m_multi_take(tup)\n\u001b[0;32m-> 1339\u001b[0m \u001b[38;5;28;01mreturn\u001b[39;00m \u001b[38;5;28mself\u001b[39m\u001b[38;5;241m.\u001b[39m_getitem_tuple_same_dim(tup)\n",
      "File \u001b[0;32m~/anaconda3/lib/python3.11/site-packages/pandas/core/indexing.py:994\u001b[0m, in \u001b[0;36m_LocationIndexer._getitem_tuple_same_dim\u001b[0;34m(self, tup)\u001b[0m\n\u001b[1;32m    991\u001b[0m \u001b[38;5;28;01mif\u001b[39;00m com\u001b[38;5;241m.\u001b[39mis_null_slice(key):\n\u001b[1;32m    992\u001b[0m     \u001b[38;5;28;01mcontinue\u001b[39;00m\n\u001b[0;32m--> 994\u001b[0m retval \u001b[38;5;241m=\u001b[39m \u001b[38;5;28mgetattr\u001b[39m(retval, \u001b[38;5;28mself\u001b[39m\u001b[38;5;241m.\u001b[39mname)\u001b[38;5;241m.\u001b[39m_getitem_axis(key, axis\u001b[38;5;241m=\u001b[39mi)\n\u001b[1;32m    995\u001b[0m \u001b[38;5;66;03m# We should never have retval.ndim < self.ndim, as that should\u001b[39;00m\n\u001b[1;32m    996\u001b[0m \u001b[38;5;66;03m#  be handled by the _getitem_lowerdim call above.\u001b[39;00m\n\u001b[1;32m    997\u001b[0m \u001b[38;5;28;01massert\u001b[39;00m retval\u001b[38;5;241m.\u001b[39mndim \u001b[38;5;241m==\u001b[39m \u001b[38;5;28mself\u001b[39m\u001b[38;5;241m.\u001b[39mndim\n",
      "File \u001b[0;32m~/anaconda3/lib/python3.11/site-packages/pandas/core/indexing.py:1382\u001b[0m, in \u001b[0;36m_LocIndexer._getitem_axis\u001b[0;34m(self, key, axis)\u001b[0m\n\u001b[1;32m   1379\u001b[0m     \u001b[38;5;28;01mif\u001b[39;00m \u001b[38;5;28mhasattr\u001b[39m(key, \u001b[38;5;124m\"\u001b[39m\u001b[38;5;124mndim\u001b[39m\u001b[38;5;124m\"\u001b[39m) \u001b[38;5;129;01mand\u001b[39;00m key\u001b[38;5;241m.\u001b[39mndim \u001b[38;5;241m>\u001b[39m \u001b[38;5;241m1\u001b[39m:\n\u001b[1;32m   1380\u001b[0m         \u001b[38;5;28;01mraise\u001b[39;00m \u001b[38;5;167;01mValueError\u001b[39;00m(\u001b[38;5;124m\"\u001b[39m\u001b[38;5;124mCannot index with multidimensional key\u001b[39m\u001b[38;5;124m\"\u001b[39m)\n\u001b[0;32m-> 1382\u001b[0m     \u001b[38;5;28;01mreturn\u001b[39;00m \u001b[38;5;28mself\u001b[39m\u001b[38;5;241m.\u001b[39m_getitem_iterable(key, axis\u001b[38;5;241m=\u001b[39maxis)\n\u001b[1;32m   1384\u001b[0m \u001b[38;5;66;03m# nested tuple slicing\u001b[39;00m\n\u001b[1;32m   1385\u001b[0m \u001b[38;5;28;01mif\u001b[39;00m is_nested_tuple(key, labels):\n",
      "File \u001b[0;32m~/anaconda3/lib/python3.11/site-packages/pandas/core/indexing.py:1322\u001b[0m, in \u001b[0;36m_LocIndexer._getitem_iterable\u001b[0;34m(self, key, axis)\u001b[0m\n\u001b[1;32m   1319\u001b[0m \u001b[38;5;28mself\u001b[39m\u001b[38;5;241m.\u001b[39m_validate_key(key, axis)\n\u001b[1;32m   1321\u001b[0m \u001b[38;5;66;03m# A collection of keys\u001b[39;00m\n\u001b[0;32m-> 1322\u001b[0m keyarr, indexer \u001b[38;5;241m=\u001b[39m \u001b[38;5;28mself\u001b[39m\u001b[38;5;241m.\u001b[39m_get_listlike_indexer(key, axis)\n\u001b[1;32m   1323\u001b[0m \u001b[38;5;28;01mreturn\u001b[39;00m \u001b[38;5;28mself\u001b[39m\u001b[38;5;241m.\u001b[39mobj\u001b[38;5;241m.\u001b[39m_reindex_with_indexers(\n\u001b[1;32m   1324\u001b[0m     {axis: [keyarr, indexer]}, copy\u001b[38;5;241m=\u001b[39m\u001b[38;5;28;01mTrue\u001b[39;00m, allow_dups\u001b[38;5;241m=\u001b[39m\u001b[38;5;28;01mTrue\u001b[39;00m\n\u001b[1;32m   1325\u001b[0m )\n",
      "File \u001b[0;32m~/anaconda3/lib/python3.11/site-packages/pandas/core/indexing.py:1520\u001b[0m, in \u001b[0;36m_LocIndexer._get_listlike_indexer\u001b[0;34m(self, key, axis)\u001b[0m\n\u001b[1;32m   1517\u001b[0m ax \u001b[38;5;241m=\u001b[39m \u001b[38;5;28mself\u001b[39m\u001b[38;5;241m.\u001b[39mobj\u001b[38;5;241m.\u001b[39m_get_axis(axis)\n\u001b[1;32m   1518\u001b[0m axis_name \u001b[38;5;241m=\u001b[39m \u001b[38;5;28mself\u001b[39m\u001b[38;5;241m.\u001b[39mobj\u001b[38;5;241m.\u001b[39m_get_axis_name(axis)\n\u001b[0;32m-> 1520\u001b[0m keyarr, indexer \u001b[38;5;241m=\u001b[39m ax\u001b[38;5;241m.\u001b[39m_get_indexer_strict(key, axis_name)\n\u001b[1;32m   1522\u001b[0m \u001b[38;5;28;01mreturn\u001b[39;00m keyarr, indexer\n",
      "File \u001b[0;32m~/anaconda3/lib/python3.11/site-packages/pandas/core/indexes/base.py:6115\u001b[0m, in \u001b[0;36mIndex._get_indexer_strict\u001b[0;34m(self, key, axis_name)\u001b[0m\n\u001b[1;32m   6112\u001b[0m \u001b[38;5;28;01melse\u001b[39;00m:\n\u001b[1;32m   6113\u001b[0m     keyarr, indexer, new_indexer \u001b[38;5;241m=\u001b[39m \u001b[38;5;28mself\u001b[39m\u001b[38;5;241m.\u001b[39m_reindex_non_unique(keyarr)\n\u001b[0;32m-> 6115\u001b[0m \u001b[38;5;28mself\u001b[39m\u001b[38;5;241m.\u001b[39m_raise_if_missing(keyarr, indexer, axis_name)\n\u001b[1;32m   6117\u001b[0m keyarr \u001b[38;5;241m=\u001b[39m \u001b[38;5;28mself\u001b[39m\u001b[38;5;241m.\u001b[39mtake(indexer)\n\u001b[1;32m   6118\u001b[0m \u001b[38;5;28;01mif\u001b[39;00m \u001b[38;5;28misinstance\u001b[39m(key, Index):\n\u001b[1;32m   6119\u001b[0m     \u001b[38;5;66;03m# GH 42790 - Preserve name from an Index\u001b[39;00m\n",
      "File \u001b[0;32m~/anaconda3/lib/python3.11/site-packages/pandas/core/indexes/base.py:6179\u001b[0m, in \u001b[0;36mIndex._raise_if_missing\u001b[0;34m(self, key, indexer, axis_name)\u001b[0m\n\u001b[1;32m   6176\u001b[0m     \u001b[38;5;28;01mraise\u001b[39;00m \u001b[38;5;167;01mKeyError\u001b[39;00m(\u001b[38;5;124mf\u001b[39m\u001b[38;5;124m\"\u001b[39m\u001b[38;5;124mNone of [\u001b[39m\u001b[38;5;132;01m{\u001b[39;00mkey\u001b[38;5;132;01m}\u001b[39;00m\u001b[38;5;124m] are in the [\u001b[39m\u001b[38;5;132;01m{\u001b[39;00maxis_name\u001b[38;5;132;01m}\u001b[39;00m\u001b[38;5;124m]\u001b[39m\u001b[38;5;124m\"\u001b[39m)\n\u001b[1;32m   6178\u001b[0m not_found \u001b[38;5;241m=\u001b[39m \u001b[38;5;28mlist\u001b[39m(ensure_index(key)[missing_mask\u001b[38;5;241m.\u001b[39mnonzero()[\u001b[38;5;241m0\u001b[39m]]\u001b[38;5;241m.\u001b[39munique())\n\u001b[0;32m-> 6179\u001b[0m \u001b[38;5;28;01mraise\u001b[39;00m \u001b[38;5;167;01mKeyError\u001b[39;00m(\u001b[38;5;124mf\u001b[39m\u001b[38;5;124m\"\u001b[39m\u001b[38;5;132;01m{\u001b[39;00mnot_found\u001b[38;5;132;01m}\u001b[39;00m\u001b[38;5;124m not in index\u001b[39m\u001b[38;5;124m\"\u001b[39m)\n",
      "\u001b[0;31mKeyError\u001b[0m: \"['z_peak'] not in index\""
     ]
    }
   ],
   "source": [
    "# Renames output to CIGALE format using matching table\n",
    "\n",
    "#output.rename(columns={'id':'id', 'z_peak':'redshift', 'foo':'bar'}, inplace=True)\n",
    "# TODO ^^\n",
    "print(failed_cdfs_table.loc[:, filter_table['ZFOURGE']])"
   ]
  },
  {
   "cell_type": "code",
   "execution_count": null,
   "id": "dcc5148b-72f7-438d-9b23-5e9d7acf4194",
   "metadata": {},
   "outputs": [],
   "source": [
    "# replaces photo z with z_spec if avalible\n",
    "for i in range(len(output)):\n",
    "    if cdfs_z_table['z_spec'][output['id'][i]-1] > -99.0:\n",
    "        output['redshift'][i] = cdfs_z_table['z_spec'][output['id'][i]-1]"
   ]
  },
  {
   "cell_type": "code",
   "execution_count": null,
   "id": "d01cd43c-483d-497f-af26-77e4957726db",
   "metadata": {},
   "outputs": [],
   "source": [
    "# Convert units of flux to mJy, and sets -99 to NaN\n",
    "for i in output.columns[2:]:\n",
    "    for j in range(len(i)):\n",
    "        if output[i][j] == -99:\n",
    "            output[i][j] = np.nan\n",
    "    output[i] = output[i] * 0.3631 / 1000"
   ]
  },
  {
   "cell_type": "code",
   "execution_count": null,
   "id": "84c7f822-3aa7-4218-9b51-a5baeb90394a",
   "metadata": {},
   "outputs": [],
   "source": [
    "output.write(output_dir, format='ascii', overwrite=True)"
   ]
  },
  {
   "cell_type": "code",
   "execution_count": null,
   "id": "f0321c47-8563-4c47-bde8-ef70dbb33bcb",
   "metadata": {},
   "outputs": [],
   "source": [
    "output"
   ]
  }
 ],
 "metadata": {
  "kernelspec": {
   "display_name": "Python 3 (ipykernel)",
   "language": "python",
   "name": "python3"
  },
  "language_info": {
   "codemirror_mode": {
    "name": "ipython",
    "version": 3
   },
   "file_extension": ".py",
   "mimetype": "text/x-python",
   "name": "python",
   "nbconvert_exporter": "python",
   "pygments_lexer": "ipython3",
   "version": "3.11.8"
  }
 },
 "nbformat": 4,
 "nbformat_minor": 5
}
