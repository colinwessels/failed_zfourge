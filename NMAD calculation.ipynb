{
 "cells": [
  {
   "cell_type": "markdown",
   "id": "1cc25efb-e62d-4fea-b489-5709c813edc0",
   "metadata": {},
   "source": [
    "Colin Wessels\n",
    "May 7 2024\n",
    "\n",
    "Purpose: to take in the redshift values of failed galaxies and calculate the normalized median absolute deviation following Equation 2 in Cowley et al's 2016 paper. This uses photometric redshifts from the JADES catalogue as a reference and tests the quality of the ZFORUGE photometric redshifts, both found using EAZY."
   ]
  },
  {
   "cell_type": "code",
   "execution_count": 1,
   "id": "c5880ac3-e973-4ba1-b9fb-e2466891dfd6",
   "metadata": {},
   "outputs": [],
   "source": [
    "import numpy as np\n",
    "from astropy.stats import mad_std"
   ]
  },
  {
   "cell_type": "code",
   "execution_count": 2,
   "id": "aae3da63-a773-43eb-80bf-7e2db18b625a",
   "metadata": {},
   "outputs": [],
   "source": [
    "zf_photoz = np.array([0.9384,0.9619,6.0993,6.7397,3.8329,0.4842,1.698,6.4756,5.913,6.4472,1.344,3.3566,1.2921,5.9343,2.6653,\n",
    "             1.122,6.0849,5.6874,0.0365,6.1171,5.8032,5.9396,6.8291,0.9662,0.848,0.8704,4.813,7.7626,2.2004,6.9238,\n",
    "             6.1072,6.0353,6.7376,6.9235,6.3837,0.5743,6.1251,6.4244,9.3059,5.9734,7.5405,5.6714,7.4846,6.1852,6.1126,\n",
    "             0.9589,5.8306,6.9235,6.923,6.6761,8.3069,6.1384,6.6108,6.2285,6.9235,6.4784,6.6653,6.3201,9.4852,6.9235,\n",
    "             6.4464,0.4463,6.0545,5.8121,6.2739,5.7756,5.9528,5.6855,6.1257,0.6661,6.2755,6.9234,0.7285,6.0425,6.5548,\n",
    "             5.7791,7.7611,7.6387,5.7247,6.1334,7.4521,6.4305,0.005,0.005,6.623,5.8857,6.0038,5.9207,6.3502,6.1839,\n",
    "             5.9012,0.0688,7.0029,3.2015,6.7649,1.0934,6.4312,5.764,5.8644,0.1894,6.9235,6.2894,6.3896,6.9235,5.9814,\n",
    "             6.0107,5.8092,0.5238,5.7304,7.3746,6.6902,6.2262,5.9946])\n",
    "# length 113"
   ]
  },
  {
   "cell_type": "code",
   "execution_count": 3,
   "id": "2af44040-42b1-49f8-ac25-56ecc38e1370",
   "metadata": {},
   "outputs": [],
   "source": [
    "jades_photoz = np.array([0.92,0.92,3.72,8.84,0.42,0.44,1.63,2.33,0.9,6.48,1.42,3.41,1.22,1.21,2.76,0.91,0.76,1.14,0.05,6.23,6.07,\n",
    "                4.82,2.8,1.02,0.81,0.83,-99,8.46,-99,6.33,5.55,0.7,6.92,6.6,0.9,5.33,5.18,6.69,5.99,6.58,2.84,5.97,7.43,\n",
    "                1.09,5.83,0.92,5.98,6.33,6.77,6.0,1.84,5.38,7.03,0.8,6.62,6.68,6.88,6.46,2.52,6.53,6.01,5.42,5.89,5.82,\n",
    "                0.47,4.61,5.91,5.49,5.57,0.66,5.95,6.7,0.75,5.84,2.96,7.36,7.11,4.88,6.5,5.52,7.28,5.88,0.05,-99,6.72,\n",
    "                2.11,5.01,5.99,6.55,6.02,5.84,0.01,6.3,0.1,5.35,1.05,6.12,3.67,1.27,3.95,6.64,5.76,6.73,6.33,6.13,0.93,\n",
    "                4.88,0.53,5.55,-99,0.94,6.55,19.46])\n",
    "\n",
    "# contains 4 null values, length 113"
   ]
  },
  {
   "cell_type": "code",
   "execution_count": 4,
   "id": "4a0dfd27-900e-4e1c-99a6-8ddf30c179b0",
   "metadata": {},
   "outputs": [],
   "source": [
    "# removes NaN values from JADES and the related values from ZF\n",
    "\n",
    "temp = [] # list of NaN values in jades\n",
    "for i in range(len(jades_photoz)):\n",
    "    if jades_photoz[i] == -99:\n",
    "        temp.append(i)\n",
    "\n",
    "for i in temp:\n",
    "    zf_photoz = np.delete(zf_photoz, i)\n",
    "    jades_photoz = np.delete(jades_photoz, i)"
   ]
  },
  {
   "cell_type": "code",
   "execution_count": 5,
   "id": "25a12b24-56c4-4fff-81cd-94375a6f16e0",
   "metadata": {},
   "outputs": [
    {
     "data": {
      "text/plain": [
       "0.11486243902439075"
      ]
     },
     "execution_count": 5,
     "metadata": {},
     "output_type": "execute_result"
    }
   ],
   "source": [
    "delta_z = np.subtract(zf_photoz, jades_photoz)\n",
    "\n",
    "# The following equation from ZFOURGE AGN paper, Cowley et al (2016): Eq. 2\n",
    "nmad = 1.48 * np.median(np.divide(np.abs(delta_z - np.median(delta_z)), jades_photoz+1))\n",
    "nmad"
   ]
  },
  {
   "cell_type": "code",
   "execution_count": 6,
   "id": "73c9c0b9-ca3c-412d-b42d-2315b8234624",
   "metadata": {},
   "outputs": [
    {
     "data": {
      "text/plain": [
       "0.7583510347656152"
      ]
     },
     "execution_count": 6,
     "metadata": {},
     "output_type": "execute_result"
    }
   ],
   "source": [
    "# From astropy.stats, different calculation\n",
    "madstd = mad_std(zf_photoz)\n",
    "madstd"
   ]
  }
 ],
 "metadata": {
  "kernelspec": {
   "display_name": "Python 3 (ipykernel)",
   "language": "python",
   "name": "python3"
  },
  "language_info": {
   "codemirror_mode": {
    "name": "ipython",
    "version": 3
   },
   "file_extension": ".py",
   "mimetype": "text/x-python",
   "name": "python",
   "nbconvert_exporter": "python",
   "pygments_lexer": "ipython3",
   "version": "3.11.8"
  }
 },
 "nbformat": 4,
 "nbformat_minor": 5
}
