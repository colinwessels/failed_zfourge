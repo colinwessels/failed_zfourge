{
 "cells": [
  {
   "cell_type": "markdown",
   "id": "17e96724-ee7e-431d-9548-c8042650fe6b",
   "metadata": {},
   "source": [
    "Colin Wessels \n",
    "May 8 2024\n",
    "\n",
    "Goals:\n",
    "\n",
    "1) Create rudimentary spectral energy distribution plots directly from the photometric data in the ZFOURGE survey failed galaxies (wavelength on x-axis, flux/luminosity on the y-axis). Similar axes to the output of Cigale.\n",
    "2) Place each SED plot into a FITS data cube using the spectral_cube library. Simply order the failed SED plots by ZFOURGE ID in the cube and keep the same x and y axes, or possibly use galactic coordinates on x and y axes with wavelength on the z axis and represent intensity with colour/brightness.\n",
    "\n",
    "Note: Negative fluxes will not be shown on log-log plots,\n",
    "      Negative error values are set to NaN (appears to only occur when fluxes are strongly negative, caused by some error?)\n",
    "\n",
    "\"Central wavelengths\" for each filter are found by selecting the wavelength with maximum transmission. However, the maximum transmission can be quite skewed (far from the center) on many filters. What other methods can be used to find a central value of the wavelength for skewed distributions?"
   ]
  },
  {
   "cell_type": "code",
   "execution_count": 1,
   "id": "23feb34b-df09-4d92-995b-e039316ba135",
   "metadata": {},
   "outputs": [],
   "source": [
    "import numpy as np\n",
    "import matplotlib.pyplot as plt\n",
    "\n",
    "from astropy.io import ascii\n",
    "from astropy.table import Table\n",
    "\n",
    "#import astropy.units as u\n",
    "#from astropy.io import fits"
   ]
  },
  {
   "cell_type": "code",
   "execution_count": 2,
   "id": "1eaa0611-c792-4c63-beb8-fab029902ca0",
   "metadata": {},
   "outputs": [],
   "source": [
    "# Declarations \n",
    "data_file = \"../ZFOURGE/data/failed_cdfs_table\" # This file contains photometric data for all 555 failed ZFOURGE CDFS galaxies\n",
    "filters_dir = \"../ZFOURGE/data/Cowley CIGALE Filters/\" # This folder contains all filter transmission tables, used to find central wavelength of filters in table\n",
    "filter_match = \"../ZFOURGE/data/filter_match_table\" # An ASCII table with the ZFOURGE filter name in 1st collumn, and filter transmission file name in 2nd col.\n",
    "output_dir = \"../ZFOURGE/outputs/plots/failed_sed_plots/\" # Directory to output all galaxy plots"
   ]
  },
  {
   "cell_type": "code",
   "execution_count": 11,
   "id": "8ff04f6f-35a5-4637-afc6-8f645562d8f9",
   "metadata": {},
   "outputs": [],
   "source": [
    "# create table from data, set -99 to null\n",
    "table = Table.read(data_file, format='ascii')\n",
    "for c in table.columns:\n",
    "    for r in range(len(table)):\n",
    "        if table[c][r] == -99.0: \n",
    "            table[c][r] = np.nan"
   ]
  },
  {
   "cell_type": "code",
   "execution_count": 4,
   "id": "09fd43c9-16b5-48c2-b1ed-4f3c9cba76d8",
   "metadata": {},
   "outputs": [
    {
     "data": {
      "text/html": [
       "<div><i>Table length=82</i>\n",
       "<table id=\"table4541573968\" class=\"table-striped table-bordered table-condensed\">\n",
       "<thead><tr><th>ZFOURGE</th><th>CIGALE</th><th>central_wavelength</th></tr></thead>\n",
       "<thead><tr><th>str9</th><th>str39</th><th>float64</th></tr></thead>\n",
       "<tr><td>id</td><td>id</td><td>0.0</td></tr>\n",
       "<tr><td>z_peak</td><td>redshift</td><td>0.0</td></tr>\n",
       "<tr><td>f_B</td><td>hst-ACS_update_sep07-wfc_f435w_t81</td><td>4565.0</td></tr>\n",
       "<tr><td>e_B</td><td>hst-ACS_update_sep07-wfc_f435w_t81_err</td><td>0.0</td></tr>\n",
       "<tr><td>f_I</td><td>hst-ACS_update_sep07-wfc_f775w_t81</td><td>7385.0</td></tr>\n",
       "<tr><td>e_I</td><td>hst-ACS_update_sep07-wfc_f775w_t81_err</td><td>0.0</td></tr>\n",
       "<tr><td>f_R</td><td>ESO-VIMOS-R</td><td>6230.0</td></tr>\n",
       "<tr><td>e_R</td><td>ESO-VIMOS-R_err</td><td>0.0</td></tr>\n",
       "<tr><td>f_U</td><td>ESO-vimos_u</td><td>3920.0</td></tr>\n",
       "<tr><td>e_U</td><td>ESO-vimos_u_err</td><td>0.0</td></tr>\n",
       "<tr><td>f_V</td><td>hst-ACS_update_sep07-wfc_f606w_t81</td><td>6685.0</td></tr>\n",
       "<tr><td>e_V</td><td>hst-ACS_update_sep07-wfc_f606w_t81_err</td><td>0.0</td></tr>\n",
       "<tr><td>f_Z</td><td>hst-ACS_update_sep07-wfc_f850lp_t81</td><td>8605.0</td></tr>\n",
       "<tr><td>e_Z</td><td>hst-ACS_update_sep07-wfc_f850lp_t81_err</td><td>0.0</td></tr>\n",
       "<tr><td>f_Hs</td><td>FOURSTAR-Hshort_cam_optics_sky</td><td>15525.0</td></tr>\n",
       "<tr><td>...</td><td>...</td><td>...</td></tr>\n",
       "<tr><td>e_WFI_V</td><td>ESO-WFI-V89_843_err</td><td>0.0</td></tr>\n",
       "<tr><td>f_WFI_Rc</td><td>ESO-WFI-Rc162_844</td><td>6685.0</td></tr>\n",
       "<tr><td>e_WFI_Rc</td><td>ESO-WFI-Rc162_844_err</td><td>0.0</td></tr>\n",
       "<tr><td>f_WFI_U38</td><td>ESO-wfi_BB_U38_ESO841</td><td>3710.0</td></tr>\n",
       "<tr><td>e_WFI_U38</td><td>ESO-wfi_BB_U38_ESO841_err</td><td>0.0</td></tr>\n",
       "<tr><td>f_tenisK</td><td>WIRCam-cfh8302_Ks</td><td>21355.0</td></tr>\n",
       "<tr><td>e_tenisK</td><td>WIRCam-cfh8302_Ks_err</td><td>0.0</td></tr>\n",
       "<tr><td>f_IRAC_36</td><td>IRAC-irac_tr1_2004-08-09</td><td>37490.0</td></tr>\n",
       "<tr><td>e_IRAC_36</td><td>IRAC-irac_tr1_2004-08-09_err</td><td>0.0</td></tr>\n",
       "<tr><td>f_IRAC_45</td><td>IRAC-irac_tr2_2004-08-09</td><td>44500.0</td></tr>\n",
       "<tr><td>e_IRAC_45</td><td>IRAC-irac_tr2_2004-08-09_err</td><td>0.0</td></tr>\n",
       "<tr><td>f_IRAC_58</td><td>IRAC-irac_tr3_2004-08-09</td><td>59840.0</td></tr>\n",
       "<tr><td>e_IRAC_58</td><td>IRAC-irac_tr3_2004-08-09_err</td><td>0.0</td></tr>\n",
       "<tr><td>f_IRAC_80</td><td>IRAC-irac_tr4_2004-08-09</td><td>84900.0</td></tr>\n",
       "<tr><td>e_IRAC_80</td><td>IRAC-irac_tr4_2004-08-09_err</td><td>0.0</td></tr>\n",
       "</table></div>"
      ],
      "text/plain": [
       "<Table length=82>\n",
       " ZFOURGE                   CIGALE                 central_wavelength\n",
       "   str9                    str39                       float64      \n",
       "--------- --------------------------------------- ------------------\n",
       "       id                                      id                0.0\n",
       "   z_peak                                redshift                0.0\n",
       "      f_B      hst-ACS_update_sep07-wfc_f435w_t81             4565.0\n",
       "      e_B  hst-ACS_update_sep07-wfc_f435w_t81_err                0.0\n",
       "      f_I      hst-ACS_update_sep07-wfc_f775w_t81             7385.0\n",
       "      e_I  hst-ACS_update_sep07-wfc_f775w_t81_err                0.0\n",
       "      f_R                             ESO-VIMOS-R             6230.0\n",
       "      e_R                         ESO-VIMOS-R_err                0.0\n",
       "      f_U                             ESO-vimos_u             3920.0\n",
       "      e_U                         ESO-vimos_u_err                0.0\n",
       "      f_V      hst-ACS_update_sep07-wfc_f606w_t81             6685.0\n",
       "      e_V  hst-ACS_update_sep07-wfc_f606w_t81_err                0.0\n",
       "      f_Z     hst-ACS_update_sep07-wfc_f850lp_t81             8605.0\n",
       "      e_Z hst-ACS_update_sep07-wfc_f850lp_t81_err                0.0\n",
       "     f_Hs          FOURSTAR-Hshort_cam_optics_sky            15525.0\n",
       "      ...                                     ...                ...\n",
       "  e_WFI_V                     ESO-WFI-V89_843_err                0.0\n",
       " f_WFI_Rc                       ESO-WFI-Rc162_844             6685.0\n",
       " e_WFI_Rc                   ESO-WFI-Rc162_844_err                0.0\n",
       "f_WFI_U38                   ESO-wfi_BB_U38_ESO841             3710.0\n",
       "e_WFI_U38               ESO-wfi_BB_U38_ESO841_err                0.0\n",
       " f_tenisK                       WIRCam-cfh8302_Ks            21355.0\n",
       " e_tenisK                   WIRCam-cfh8302_Ks_err                0.0\n",
       "f_IRAC_36                IRAC-irac_tr1_2004-08-09            37490.0\n",
       "e_IRAC_36            IRAC-irac_tr1_2004-08-09_err                0.0\n",
       "f_IRAC_45                IRAC-irac_tr2_2004-08-09            44500.0\n",
       "e_IRAC_45            IRAC-irac_tr2_2004-08-09_err                0.0\n",
       "f_IRAC_58                IRAC-irac_tr3_2004-08-09            59840.0\n",
       "e_IRAC_58            IRAC-irac_tr3_2004-08-09_err                0.0\n",
       "f_IRAC_80                IRAC-irac_tr4_2004-08-09            84900.0\n",
       "e_IRAC_80            IRAC-irac_tr4_2004-08-09_err                0.0"
      ]
     },
     "execution_count": 4,
     "metadata": {},
     "output_type": "execute_result"
    }
   ],
   "source": [
    "# Fills in a new wavelength column in filter table\n",
    "# wavelength in units of angstroms\n",
    "\n",
    "\n",
    "\n",
    "filter_table = Table.read(filter_match, format='ascii.commented_header')\n",
    "filter_table.add_column(np.zeros(1), name='central_wavelength')\n",
    "\n",
    "for i in range(2, len(filter_table), 2): # starts at 3rd row to skip id and redshift, step = 2 to skip err\n",
    "    # Open each transmission table in filters/, gather all transmission values, find max, then use that wavelength value.\n",
    "    trans_table = Table.read(filters_dir + filter_table['CIGALE'][i] + '.dat', format='ascii')\n",
    "    max_row = trans_table[0]\n",
    "    for j in trans_table:\n",
    "        if j['col2'] > max_row['col2']:\n",
    "            max_row = j\n",
    "    filter_table['central_wavelength'][i] = max_row['col1']\n",
    "\n",
    "filter_table[0:]"
   ]
  },
  {
   "cell_type": "code",
   "execution_count": 5,
   "id": "28e9f9bb-f1c0-4b57-a735-90b86ed6262c",
   "metadata": {},
   "outputs": [],
   "source": [
    "# Create ordered array of all wavelength values.\n",
    "wavelengths = np.array(filter_table[2::2]['central_wavelength'], dtype='int')\n",
    "\n",
    "# Create a 2d ordered array of fluxes for each galaxy\n",
    "fluxes = np.empty((len(table),len(wavelengths)))\n",
    "for i in range(len(filter_table[2::2])):\n",
    "    fluxes[:,i] = table[filter_table['ZFOURGE'][(i+1)*2]] * 0.3631 / 1000 # Converts fluxes into units of mJy\n",
    "\n",
    "# Create same array for errors\n",
    "errors = np.empty((len(table),len(wavelengths)))\n",
    "for i in range(len(filter_table[3::2])):\n",
    "    errors[:,i] = table[filter_table['ZFOURGE'][(i+2)*2-1]] * 0.3631 / 1000 # Sanity check: correct error propogation?\n",
    "    for j in range(len(errors[:,i])):\n",
    "        if errors[j,i] < 0: errors[j,i] = np.nan # Sets negative errors to NaN "
   ]
  },
  {
   "cell_type": "code",
   "execution_count": 6,
   "id": "b796cceb-1f00-4149-92fb-c9c18feb56d7",
   "metadata": {},
   "outputs": [],
   "source": [
    "# Plot!\n",
    "for i in range(len(fluxes)):\n",
    "    plt.errorbar(wavelengths, fluxes[i], yerr=errors[i], ecolor=(0.5,0.5,0.5), fmt='.', color=(1-(i/len(fluxes)),0,i/len(fluxes)))\n",
    "    plt.xscale('log')\n",
    "    plt.yscale('log')\n",
    "    plt.axis((3000,90000,0.000001,3))\n",
    "    plt.xlabel(\"Wavelength (angstroms)\")\n",
    "    plt.ylabel(\"Flux (mJy)\")\n",
    "    plt.title('ZFOURGE ID #' + str(table[i]['id']))\n",
    "    plt.savefig(output_dir + 'ZFOURGE ID #' + str(table[i]['id']) + '.png')\n",
    "    plt.close()"
   ]
  },
  {
   "cell_type": "code",
   "execution_count": 7,
   "id": "5e17a698-a305-49df-b59a-8ae3c93f02d5",
   "metadata": {},
   "outputs": [
    {
     "data": {
      "text/html": [
       "<i>Row index=7</i>\n",
       "<table id=\"table4549550032\">\n",
       "<thead><tr><th>id</th><th>x</th><th>y</th><th>ra</th><th>dec</th><th>SEflags</th><th>iso_area</th><th>fap_Ksall</th><th>eap_Ksall</th><th>apcorr</th><th>Ks_ratio</th><th>fapcirc07_Ksall</th><th>eapcirc07_Ksall</th><th>apcorr07</th><th>fcirc07_Ksall</th><th>ecirc07_Ksall</th><th>fauto_Ksall</th><th>flux50_radius</th><th>a_vector</th><th>b_vector</th><th>kron_radius</th><th>f_Ksall</th><th>e_Ksall</th><th>w_Ksall</th><th>f_B</th><th>e_B</th><th>w_B</th><th>f_I</th><th>e_I</th><th>w_I</th><th>f_R</th><th>e_R</th><th>w_R</th><th>f_U</th><th>e_U</th><th>w_U</th><th>f_V</th><th>e_V</th><th>w_V</th><th>f_Z</th><th>e_Z</th><th>w_Z</th><th>f_Hs</th><th>e_Hs</th><th>w_Hs</th><th>f_Hl</th><th>e_Hl</th><th>w_Hl</th><th>f_J1</th><th>e_J1</th><th>w_J1</th><th>f_J2</th><th>e_J2</th><th>w_J2</th><th>f_J3</th><th>e_J3</th><th>w_J3</th><th>f_Ks</th><th>e_Ks</th><th>w_Ks</th><th>f_KsHI</th><th>e_KsHI</th><th>w_KsHI</th><th>f_NB118</th><th>e_NB118</th><th>w_NB118</th><th>f_NB209</th><th>e_NB209</th><th>w_NB209</th><th>f_F098M</th><th>e_F098M</th><th>w_F098M</th><th>f_F105W</th><th>e_F105W</th><th>w_F105W</th><th>f_F125W</th><th>e_F125W</th><th>w_F125W</th><th>f_F140W</th><th>e_F140W</th><th>w_F140W</th><th>f_F160W</th><th>e_F160W</th><th>w_F160W</th><th>f_F814W</th><th>e_F814W</th><th>w_F814W</th><th>f_IA484</th><th>e_IA484</th><th>w_IA484</th><th>f_IA527</th><th>e_IA527</th><th>w_IA527</th><th>f_IA574</th><th>e_IA574</th><th>w_IA574</th><th>f_IA598</th><th>e_IA598</th><th>w_IA598</th><th>f_IA624</th><th>e_IA624</th><th>w_IA624</th><th>f_IA651</th><th>e_IA651</th><th>w_IA651</th><th>f_IA679</th><th>e_IA679</th><th>w_IA679</th><th>f_IA738</th><th>e_IA738</th><th>w_IA738</th><th>f_IA767</th><th>e_IA767</th><th>w_IA767</th><th>f_IA797</th><th>e_IA797</th><th>w_IA797</th><th>f_IA856</th><th>e_IA856</th><th>w_IA856</th><th>f_WFI_V</th><th>e_WFI_V</th><th>w_WFI_V</th><th>f_WFI_Rc</th><th>e_WFI_Rc</th><th>w_WFI_Rc</th><th>f_WFI_U38</th><th>e_WFI_U38</th><th>w_WFI_U38</th><th>f_tenisK</th><th>e_tenisK</th><th>w_tenisK</th><th>f_IRAC_36</th><th>e_IRAC_36</th><th>w_IRAC_36</th><th>f_IRAC_45</th><th>e_IRAC_45</th><th>w_IRAC_45</th><th>f_IRAC_58</th><th>e_IRAC_58</th><th>w_IRAC_58</th><th>f_IRAC_80</th><th>e_IRAC_80</th><th>w_IRAC_80</th><th>wmin_optical</th><th>wmin_hst_optical</th><th>wmin_fs</th><th>wmin_jhk</th><th>wmin_hst</th><th>wmin_irac</th><th>wmin_all</th><th>star</th><th>nearstar</th><th>use</th><th>snr</th><th>use_nosnr</th><th>z_spec</th></tr></thead>\n",
       "<thead><tr><th>int64</th><th>float64</th><th>float64</th><th>float64</th><th>float64</th><th>int64</th><th>float64</th><th>float64</th><th>float64</th><th>float64</th><th>float64</th><th>float64</th><th>float64</th><th>float64</th><th>float64</th><th>float64</th><th>float64</th><th>float64</th><th>float64</th><th>float64</th><th>float64</th><th>float64</th><th>float64</th><th>float64</th><th>float64</th><th>float64</th><th>float64</th><th>float64</th><th>float64</th><th>float64</th><th>float64</th><th>float64</th><th>float64</th><th>float64</th><th>float64</th><th>float64</th><th>float64</th><th>float64</th><th>float64</th><th>float64</th><th>float64</th><th>float64</th><th>float64</th><th>float64</th><th>float64</th><th>float64</th><th>float64</th><th>float64</th><th>float64</th><th>float64</th><th>float64</th><th>float64</th><th>float64</th><th>float64</th><th>float64</th><th>float64</th><th>float64</th><th>float64</th><th>float64</th><th>float64</th><th>float64</th><th>float64</th><th>float64</th><th>float64</th><th>float64</th><th>float64</th><th>float64</th><th>float64</th><th>float64</th><th>float64</th><th>float64</th><th>float64</th><th>float64</th><th>float64</th><th>float64</th><th>float64</th><th>float64</th><th>float64</th><th>float64</th><th>float64</th><th>float64</th><th>float64</th><th>float64</th><th>float64</th><th>float64</th><th>float64</th><th>float64</th><th>float64</th><th>float64</th><th>float64</th><th>float64</th><th>float64</th><th>float64</th><th>float64</th><th>float64</th><th>float64</th><th>float64</th><th>float64</th><th>float64</th><th>float64</th><th>float64</th><th>float64</th><th>float64</th><th>float64</th><th>float64</th><th>float64</th><th>float64</th><th>float64</th><th>float64</th><th>float64</th><th>float64</th><th>float64</th><th>float64</th><th>float64</th><th>float64</th><th>float64</th><th>float64</th><th>float64</th><th>float64</th><th>float64</th><th>float64</th><th>float64</th><th>float64</th><th>float64</th><th>float64</th><th>float64</th><th>float64</th><th>float64</th><th>float64</th><th>float64</th><th>float64</th><th>float64</th><th>float64</th><th>float64</th><th>float64</th><th>float64</th><th>float64</th><th>float64</th><th>float64</th><th>float64</th><th>float64</th><th>float64</th><th>float64</th><th>float64</th><th>float64</th><th>float64</th><th>float64</th><th>float64</th><th>float64</th><th>float64</th><th>float64</th><th>int64</th><th>int64</th><th>int64</th><th>float64</th><th>int64</th><th>float64</th></tr></thead>\n",
       "<tr><td>378</td><td>2629.872</td><td>423.862</td><td>53.1684418</td><td>-27.9575253</td><td>0</td><td>15.0</td><td>0.7959871</td><td>0.251456</td><td>1.169054</td><td>1.979685</td><td>0.4787802</td><td>0.1291864</td><td>1.774505</td><td>0.8495979</td><td>0.229242</td><td>1.347931</td><td>2.89</td><td>1.341</td><td>0.862</td><td>4.913</td><td>1.5775373844000002</td><td>0.40951437084000003</td><td>0.11</td><td>nan</td><td>nan</td><td>0.0</td><td>nan</td><td>nan</td><td>0.0</td><td>-0.1129385048</td><td>0.0728612215</td><td>0.11</td><td>-0.001260270928</td><td>0.01524464872</td><td>0.93</td><td>nan</td><td>nan</td><td>0.0</td><td>nan</td><td>nan</td><td>0.0</td><td>nan</td><td>nan</td><td>0.0</td><td>nan</td><td>nan</td><td>0.0</td><td>nan</td><td>nan</td><td>0.0</td><td>nan</td><td>nan</td><td>0.0</td><td>nan</td><td>nan</td><td>0.0</td><td>nan</td><td>nan</td><td>0.0</td><td>nan</td><td>nan</td><td>0.0</td><td>nan</td><td>nan</td><td>0.0</td><td>nan</td><td>nan</td><td>0.0</td><td>nan</td><td>nan</td><td>0.0</td><td>nan</td><td>nan</td><td>0.0</td><td>nan</td><td>nan</td><td>0.0</td><td>nan</td><td>nan</td><td>0.0</td><td>nan</td><td>nan</td><td>0.0</td><td>0.0970302748</td><td>0.096370446</td><td>0.47</td><td>-0.05690815638</td><td>0.04734846704</td><td>1.0</td><td>-0.05159558124000001</td><td>0.04959841266</td><td>1.0</td><td>0.17311475999999998</td><td>0.12612073799999998</td><td>1.0</td><td>0.01068595341</td><td>0.04858215296000001</td><td>1.0</td><td>0.01229864911</td><td>0.05587887014</td><td>1.0</td><td>-0.019191927159999997</td><td>0.043226415799999994</td><td>1.0</td><td>0.03226157408</td><td>0.055498379679999994</td><td>1.0</td><td>-0.06689919456000001</td><td>0.06015448032</td><td>1.0</td><td>0.0018453471270000001</td><td>0.1508363649</td><td>1.0</td><td>-0.0327982577</td><td>0.17298699599999998</td><td>1.0</td><td>-0.4596941327</td><td>0.2308436084</td><td>1.0</td><td>0.03022552422</td><td>0.04112608093</td><td>1.15</td><td>-0.05509261935999999</td><td>0.037778485279999996</td><td>1.1</td><td>0.0012461866536</td><td>0.13971022379999998</td><td>0.96</td><td>1.7602447450000003</td><td>0.27977960080000003</td><td>0.95</td><td>2.2032858749999997</td><td>0.1518207565</td><td>0.1</td><td>1.5472677849999998</td><td>0.204109325</td><td>0.15</td><td>-195.9888</td><td>-195.9888</td><td>-0.0</td><td>-0.151152554</td><td>2.88472212</td><td>0.07</td><td>0.0</td><td>0.47</td><td>0.0</td><td>0.0</td><td>0.0</td><td>0.0</td><td>0.0</td><td>0</td><td>0</td><td>0</td><td>3.706118</td><td>0</td><td>nan</td></tr>\n",
       "</table>"
      ],
      "text/plain": [
       "<Row index=7>\n",
       "  id     x        y        ra         dec     SEflags iso_area fap_Ksall eap_Ksall  apcorr  Ks_ratio fapcirc07_Ksall eapcirc07_Ksall apcorr07 fcirc07_Ksall ecirc07_Ksall fauto_Ksall flux50_radius a_vector b_vector kron_radius      f_Ksall             e_Ksall       w_Ksall   f_B     e_B     w_B     f_I     e_I     w_I        f_R          e_R        w_R         f_U            e_U        w_U     f_V     e_V     w_V     f_Z     e_Z     w_Z     f_Hs    e_Hs    w_Hs    f_Hl    e_Hl    w_Hl    f_J1    e_J1    w_J1    f_J2    e_J2    w_J2    f_J3    e_J3    w_J3    f_Ks    e_Ks    w_Ks   f_KsHI  e_KsHI  w_KsHI f_NB118 e_NB118 w_NB118 f_NB209 e_NB209 w_NB209 f_F098M e_F098M w_F098M f_F105W e_F105W w_F105W f_F125W e_F125W w_F125W f_F140W e_F140W w_F140W f_F160W e_F160W w_F160W   f_F814W      e_F814W   w_F814W    f_IA484        e_IA484    w_IA484       f_IA527           e_IA527    w_IA527       f_IA574             e_IA574       w_IA574    f_IA598          e_IA598       w_IA598    f_IA624       e_IA624    w_IA624        f_IA651              e_IA651        w_IA651    f_IA679          e_IA679        w_IA679       f_IA738           e_IA738    w_IA738        f_IA767          e_IA767    w_IA767    f_IA797          e_IA797       w_IA797    f_IA856      e_IA856    w_IA856    f_WFI_V       e_WFI_V    w_WFI_V       f_WFI_Rc             e_WFI_Rc       w_WFI_Rc    f_WFI_U38         e_WFI_U38      w_WFI_U38      f_tenisK            e_tenisK      w_tenisK     f_IRAC_36       e_IRAC_36   w_IRAC_36     f_IRAC_45       e_IRAC_45  w_IRAC_45 f_IRAC_58 e_IRAC_58 w_IRAC_58  f_IRAC_80   e_IRAC_80  w_IRAC_80 wmin_optical wmin_hst_optical wmin_fs wmin_jhk wmin_hst wmin_irac wmin_all  star nearstar  use    snr    use_nosnr  z_spec\n",
       "int64 float64  float64  float64     float64    int64  float64   float64   float64  float64  float64      float64         float64     float64     float64       float64      float64      float64    float64  float64    float64        float64             float64       float64 float64 float64 float64 float64 float64 float64    float64      float64    float64     float64        float64    float64 float64 float64 float64 float64 float64 float64 float64 float64 float64 float64 float64 float64 float64 float64 float64 float64 float64 float64 float64 float64 float64 float64 float64 float64 float64 float64 float64 float64 float64 float64 float64 float64 float64 float64 float64 float64 float64 float64 float64 float64 float64 float64 float64 float64 float64 float64 float64 float64   float64      float64   float64    float64        float64    float64       float64           float64    float64       float64             float64       float64    float64          float64       float64    float64       float64    float64        float64              float64        float64    float64          float64        float64       float64           float64    float64        float64          float64    float64    float64          float64       float64    float64      float64    float64    float64       float64    float64       float64              float64        float64      float64           float64        float64       float64             float64       float64       float64         float64     float64       float64         float64    float64   float64   float64   float64    float64     float64    float64    float64        float64      float64 float64  float64   float64  float64  int64  int64   int64 float64    int64   float64\n",
       "----- -------- ------- ---------- ----------- ------- -------- --------- --------- -------- -------- --------------- --------------- -------- ------------- ------------- ----------- ------------- -------- -------- ----------- ------------------ ------------------- ------- ------- ------- ------- ------- ------- ------- ------------- ------------ ------- --------------- ------------- ------- ------- ------- ------- ------- ------- ------- ------- ------- ------- ------- ------- ------- ------- ------- ------- ------- ------- ------- ------- ------- ------- ------- ------- ------- ------- ------- ------- ------- ------- ------- ------- ------- ------- ------- ------- ------- ------- ------- ------- ------- ------- ------- ------- ------- ------- ------- ------- ------- ------------ ----------- ------- -------------- ------------- ------- -------------------- ------------- ------- ------------------- ------------------- ------- ------------- ------------------- ------- ------------- ------------- ------- --------------------- -------------------- ------- ------------- -------------------- ------- -------------------- ------------- ------- --------------------- ------------ ------- ------------- ------------------- ------- ------------- ------------ ------- ------------- ------------- ------- -------------------- -------------------- -------- --------------- ------------------- --------- ------------------ ------------------- -------- ------------------ ------------ --------- ------------------ ----------- --------- --------- --------- --------- ------------ ---------- --------- ------------ ---------------- ------- -------- -------- --------- -------- ----- -------- ----- -------- --------- -------\n",
       "  378 2629.872 423.862 53.1684418 -27.9575253       0     15.0 0.7959871  0.251456 1.169054 1.979685       0.4787802       0.1291864 1.774505     0.8495979      0.229242    1.347931          2.89    1.341    0.862       4.913 1.5775373844000002 0.40951437084000003    0.11     nan     nan     0.0     nan     nan     0.0 -0.1129385048 0.0728612215    0.11 -0.001260270928 0.01524464872    0.93     nan     nan     0.0     nan     nan     0.0     nan     nan     0.0     nan     nan     0.0     nan     nan     0.0     nan     nan     0.0     nan     nan     0.0     nan     nan     0.0     nan     nan     0.0     nan     nan     0.0     nan     nan     0.0     nan     nan     0.0     nan     nan     0.0     nan     nan     0.0     nan     nan     0.0     nan     nan     0.0 0.0970302748 0.096370446    0.47 -0.05690815638 0.04734846704     1.0 -0.05159558124000001 0.04959841266     1.0 0.17311475999999998 0.12612073799999998     1.0 0.01068595341 0.04858215296000001     1.0 0.01229864911 0.05587887014     1.0 -0.019191927159999997 0.043226415799999994     1.0 0.03226157408 0.055498379679999994     1.0 -0.06689919456000001 0.06015448032     1.0 0.0018453471270000001 0.1508363649     1.0 -0.0327982577 0.17298699599999998     1.0 -0.4596941327 0.2308436084     1.0 0.03022552422 0.04112608093    1.15 -0.05509261935999999 0.037778485279999996      1.1 0.0012461866536 0.13971022379999998      0.96 1.7602447450000003 0.27977960080000003     0.95 2.2032858749999997 0.1518207565       0.1 1.5472677849999998 0.204109325      0.15 -195.9888 -195.9888      -0.0 -0.151152554 2.88472212      0.07          0.0             0.47     0.0      0.0      0.0       0.0      0.0     0        0     0 3.706118         0     nan"
      ]
     },
     "execution_count": 7,
     "metadata": {},
     "output_type": "execute_result"
    }
   ],
   "source": [
    "table[7]"
   ]
  },
  {
   "cell_type": "code",
   "execution_count": 8,
   "id": "e56d8218-55c2-4fd9-a2ac-aee43058d196",
   "metadata": {},
   "outputs": [
    {
     "data": {
      "text/plain": [
       "array([ 4565,  7385,  6230,  3920,  6685,  8605, 15525, 16725, 10800,\n",
       "       11935, 13345, 21055, 22134, 11930, 21000, 10435, 11790, 13260,\n",
       "       13335, 14445,  7145,  4905,  5250,  5845,  5985,  6220,  6520,\n",
       "        6790,  7380,  7765,  7890,  8485,  5230,  6685,  3710, 21355,\n",
       "       37490, 44500, 59840, 84900])"
      ]
     },
     "execution_count": 8,
     "metadata": {},
     "output_type": "execute_result"
    }
   ],
   "source": [
    "wavelengths"
   ]
  },
  {
   "cell_type": "code",
   "execution_count": 9,
   "id": "5f89db54-668c-406a-aff0-35db30ec21fe",
   "metadata": {
    "scrolled": true
   },
   "outputs": [
    {
     "data": {
      "text/plain": [
       "30310.047599999998"
      ]
     },
     "execution_count": 9,
     "metadata": {},
     "output_type": "execute_result"
    }
   ],
   "source": [
    "table[96]['e_IRAC_80'] # lol"
   ]
  }
 ],
 "metadata": {
  "kernelspec": {
   "display_name": "Python 3 (ipykernel)",
   "language": "python",
   "name": "python3"
  },
  "language_info": {
   "codemirror_mode": {
    "name": "ipython",
    "version": 3
   },
   "file_extension": ".py",
   "mimetype": "text/x-python",
   "name": "python",
   "nbconvert_exporter": "python",
   "pygments_lexer": "ipython3",
   "version": "3.11.8"
  }
 },
 "nbformat": 4,
 "nbformat_minor": 5
}
