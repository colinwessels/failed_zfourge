


from astropy.io import fits
from astropy.io import ascii
from astropy.table import Table
import numpy as np
hdul = fits.open('zcat.deep2.dr4.fits')
hdul.info()


hdul[0].header
# Note Extend = True


hdul[1].header
# Note the presence of binary table extension
# Documentation of fits tags are avalible from uci's website


data = hdul[1].data

data[1]


data.columns





id = data.field('OBJNO')
redshift = data.field('ZBEST')
redshift_quality = data.field('ZQUALITY')
for i in range(len(redshift)): # from what I can tell the redshifts are already negaitve if quality is < 3, so this is redundent.
    if redshift_quality[i] < 3:
        redshift[i] = -1 # negative redshift will tell CIGALE to find redshift on its own


magb = data.field('MAGB')
magr = data.field('MAGR')
magi = data.field('MAGI')

magb_err = data.field('MAGBERR')
magr_err = data.field('MAGRERR')
magi_err = data.field('MAGIERR')

hdul.close()


# Because I can't propogate error we will be subtracting/adding the error to the value before converting. 
magb_low = magb + magb_err # For magnitudes, lower is higher
magb_high = magb - magb_err
magr_low = magr + magr_err
magr_high = magr - magr_err
magi_low = magi + magi_err
magi_high = magi - magi_err


# Mag = -2.5*log10(spec flux density) + 8.90. Invert to find spec flux density in Jy
flux_b_low = 10**((magb_low-8.90)/-2.5)
flux_b_high = 10**((magb_high-8.90)/-2.5)
flux_r_low = 10**((magr_low-8.90)/-2.5)
flux_r_high = 10**((magr_high-8.90)/-2.5)
flux_i_low = 10**((magi_low-8.90)/-2.5)
flux_i_high = 10**((magi_high-8.90)/-2.5)

flux_b_low *= 1000; flux_r_low *= 1000; flux_i_low *= 1000 # convert to mJy for Cigale
flux_b_high *= 1000; flux_r_high *= 1000; flux_i_high *= 1000

# float32 too small :(


flux_b_err = (flux_b_high - flux_b_low) / 2
flux_b = flux_b_err + flux_b_low
flux_r_err = (flux_r_high - flux_r_low) / 2
flux_r = flux_r_err + flux_r_low
flux_i_err = (flux_i_high - flux_i_low) / 2
flux_i = flux_i_err + flux_i_low





data = Table()


data['id'] = id
data['redshift'] = redshift
data['CFHT_CFH12k.B'] = flux_b # CFH 12k was the insturment used, so I included it in the filter name.
data['CFHT_CFH12k.B_err'] = flux_b_err
data['CFHT_CFH12k.R'] = flux_r
data['CFHT_CFH12k.R_err'] = flux_r_err
data['CFHT_CFH12k.I'] = flux_i
data['CFHT_CFH12k.I_err'] = flux_i_err
print(data)
ascii.write(data, 'DEEP2.dat', overwrite=True)



