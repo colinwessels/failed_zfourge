{
 "cells": [
  {
   "cell_type": "raw",
   "id": "fffc5f87-59de-45f2-b6f2-7a1cc7866b9c",
   "metadata": {},
   "source": [
    "The purpose of this notebook is to understand how to convert a fits file I might find searching the internet for galactic SED surveys into a format that can be processed by CIGALE. According to CIGALE's manual, that format is:\n",
    "\n",
    "        id              redshift   filter1    filter1_err   filter2    filter2_err ...\n",
    "J175535.47+660959.0      1.22       1.091e-02  1.20e-03      1.533e-02  1.56e-03    ...\n",
    "      19260817           3.12       9.325e-03  1.04e-03      4.107e-02  4.18e-03    ...\n",
    "\n",
    "The first file I'm trying first is the DEPP2 redshift catalogue of the Extended Groth Strip."
   ]
  },
  {
   "cell_type": "code",
   "execution_count": 209,
   "id": "c36110f1-818c-4222-b06a-a102bac1d5d3",
   "metadata": {},
   "outputs": [
    {
     "name": "stdout",
     "output_type": "stream",
     "text": [
      "Filename: zcat.deep2.dr4.fits\n",
      "No.    Name      Ver    Type      Cards   Dimensions   Format\n",
      "  0  PRIMARY       1 PrimaryHDU       4   ()      \n",
      "  1                1 BinTableHDU     89   52989R x 36C   [J, D, D, E, E, E, E, E, E, E, E, E, E, E, E, E, 8A, J, J, 10A, E, E, E, E, E, E, E, E, I, 6A, 6A, E, J, E, E, 47A]   \n"
     ]
    }
   ],
   "source": [
    "from astropy.io import fits\n",
    "from astropy.io import ascii\n",
    "from astropy.table import Table\n",
    "import numpy as np\n",
    "hdul = fits.open('zcat.deep2.dr4.fits')\n",
    "hdul.info()"
   ]
  },
  {
   "cell_type": "code",
   "execution_count": 183,
   "id": "b5d36dc4-bc14-4502-aadd-207703519aaa",
   "metadata": {},
   "outputs": [
    {
     "data": {
      "text/plain": [
       "SIMPLE  =                    T /Dummy Created by MWRFITS v1.4a                  \n",
       "BITPIX  =                    8 /Dummy primary header created by MWRFITS         \n",
       "NAXIS   =                    0 /No data is associated with this header          \n",
       "EXTEND  =                    T /Extensions may (will!) be present               "
      ]
     },
     "execution_count": 183,
     "metadata": {},
     "output_type": "execute_result"
    }
   ],
   "source": [
    "hdul[0].header\n",
    "# Note Extend = True"
   ]
  },
  {
   "cell_type": "code",
   "execution_count": 184,
   "id": "19ce0d7a-4ab5-4c93-9c1e-80a0a0c571af",
   "metadata": {},
   "outputs": [
    {
     "data": {
      "text/plain": [
       "XTENSION= 'BINTABLE'           /Binary table written by MWRFITS v1.4a           \n",
       "BITPIX  =                    8 /Required value                                  \n",
       "NAXIS   =                    2 /Required value                                  \n",
       "NAXIS1  =                  207 /Number of bytes per row                         \n",
       "NAXIS2  =                52989 /Number of rows                                  \n",
       "PCOUNT  =                    0 /Normally 0 (no varying arrays)                  \n",
       "GCOUNT  =                    1 /Required value                                  \n",
       "TFIELDS =                   36 /Number of columns in table                      \n",
       "COMMENT                                                                         \n",
       "COMMENT  *** End of mandatory fields ***                                        \n",
       "COMMENT                                                                         \n",
       "COMMENT                                                                         \n",
       "COMMENT  *** Column names ***                                                   \n",
       "COMMENT                                                                         \n",
       "TTYPE1  = 'OBJNO   '           /                                                \n",
       "TTYPE2  = 'RA      '           /                                                \n",
       "TTYPE3  = 'DEC     '           /                                                \n",
       "TTYPE4  = 'MAGB    '           /                                                \n",
       "TTYPE5  = 'MAGR    '           /                                                \n",
       "TTYPE6  = 'MAGI    '           /                                                \n",
       "TTYPE7  = 'MAGBERR '           /                                                \n",
       "TTYPE8  = 'MAGRERR '           /                                                \n",
       "TTYPE9  = 'MAGIERR '           /                                                \n",
       "TTYPE10 = 'RG      '           /                                                \n",
       "TTYPE11 = 'E2      '           /                                                \n",
       "TTYPE12 = 'PA      '           /                                                \n",
       "TTYPE13 = 'PGAL    '           /                                                \n",
       "TTYPE14 = 'SFD_EBV '           /                                                \n",
       "TTYPE15 = 'M_B     '           /                                                \n",
       "TTYPE16 = 'UB      '           /                                                \n",
       "TTYPE17 = 'OBJNAME '           /                                                \n",
       "TTYPE18 = 'MASK    '           /                                                \n",
       "TTYPE19 = 'SLIT    '           /                                                \n",
       "TTYPE20 = 'DATE    '           /                                                \n",
       "TTYPE21 = 'MJD     '           /                                                \n",
       "TTYPE22 = 'SLITRA  '           /                                                \n",
       "TTYPE23 = 'SLITDEC '           /                                                \n",
       "TTYPE24 = 'SLITPA  '           /                                                \n",
       "TTYPE25 = 'SLITLEN '           /                                                \n",
       "TTYPE26 = 'Z       '           /                                                \n",
       "TTYPE27 = 'ZBEST   '           /                                                \n",
       "TTYPE28 = 'ZERR    '           /                                                \n",
       "TTYPE29 = 'ZQUALITY '          /                                                \n",
       "TTYPE30 = 'CLASS   '           /                                                \n",
       "TTYPE31 = 'SUBCLASS '          /                                                \n",
       "TTYPE32 = 'RCHI2   '           /                                                \n",
       "TTYPE33 = 'DOF     '           /                                                \n",
       "TTYPE34 = 'VDISP   '           /                                                \n",
       "TTYPE35 = 'VDISPERR '          /                                                \n",
       "TTYPE36 = 'COMMENT '           /                                                \n",
       "COMMENT                                                                         \n",
       "COMMENT  *** Column formats ***                                                 \n",
       "COMMENT                                                                         \n",
       "TFORM1  = 'J       '           /                                                \n",
       "TFORM2  = 'D       '           /                                                \n",
       "TFORM3  = 'D       '           /                                                \n",
       "TFORM4  = 'E       '           /                                                \n",
       "TFORM5  = 'E       '           /                                                \n",
       "TFORM6  = 'E       '           /                                                \n",
       "TFORM7  = 'E       '           /                                                \n",
       "TFORM8  = 'E       '           /                                                \n",
       "TFORM9  = 'E       '           /                                                \n",
       "TFORM10 = 'E       '           /                                                \n",
       "TFORM11 = 'E       '           /                                                \n",
       "TFORM12 = 'E       '           /                                                \n",
       "TFORM13 = 'E       '           /                                                \n",
       "TFORM14 = 'E       '           /                                                \n",
       "TFORM15 = 'E       '           /                                                \n",
       "TFORM16 = 'E       '           /                                                \n",
       "TFORM17 = '8A      '           /                                                \n",
       "TFORM18 = 'J       '           /                                                \n",
       "TFORM19 = 'J       '           /                                                \n",
       "TFORM20 = '10A     '           /                                                \n",
       "TFORM21 = 'E       '           /                                                \n",
       "TFORM22 = 'E       '           /                                                \n",
       "TFORM23 = 'E       '           /                                                \n",
       "TFORM24 = 'E       '           /                                                \n",
       "TFORM25 = 'E       '           /                                                \n",
       "TFORM26 = 'E       '           /                                                \n",
       "TFORM27 = 'E       '           /                                                \n",
       "TFORM28 = 'E       '           /                                                \n",
       "TFORM29 = 'I       '           /                                                \n",
       "TFORM30 = '6A      '           /                                                \n",
       "TFORM31 = '6A      '           /                                                \n",
       "TFORM32 = 'E       '           /                                                \n",
       "TFORM33 = 'J       '           /                                                \n",
       "TFORM34 = 'E       '           /                                                \n",
       "TFORM35 = 'E       '           /                                                \n",
       "TFORM36 = '47A     '           /                                                "
      ]
     },
     "execution_count": 184,
     "metadata": {},
     "output_type": "execute_result"
    }
   ],
   "source": [
    "hdul[1].header\n",
    "# Note the presence of binary table extension\n",
    "# Documentation of fits tags are avalible from uci's website"
   ]
  },
  {
   "cell_type": "code",
   "execution_count": 185,
   "id": "11118b42-a1da-4685-90e3-44802508733e",
   "metadata": {},
   "outputs": [
    {
     "data": {
      "text/plain": [
       "(11001699, 213.8104711304302, 51.942315949116164, 22.067692, 20.034674, 19.54508, 0.009000347, 0.0014783558, 0.002078924, 1.9572897, 0.0259335, -0.39657494, 3.0, 0.011014033, -19.2287, 1.1295, '11001699', 1100, 7, '2003-05-03', 52762.44, 213.81044, 51.942436, -48.858, 4.201, 0.2906415, 0.2906078, 4.261443e-05, 4, 'GALAXY', 'NONE', 1.1781532, 5901, 166.33499, 49.481255, '')"
      ]
     },
     "execution_count": 185,
     "metadata": {},
     "output_type": "execute_result"
    }
   ],
   "source": [
    "data = hdul[1].data\n",
    "\n",
    "data[1]"
   ]
  },
  {
   "cell_type": "code",
   "execution_count": 186,
   "id": "760a539b-0648-49b0-938e-438cf3c82309",
   "metadata": {},
   "outputs": [
    {
     "data": {
      "text/plain": [
       "ColDefs(\n",
       "    name = 'OBJNO'; format = 'J'\n",
       "    name = 'RA'; format = 'D'\n",
       "    name = 'DEC'; format = 'D'\n",
       "    name = 'MAGB'; format = 'E'\n",
       "    name = 'MAGR'; format = 'E'\n",
       "    name = 'MAGI'; format = 'E'\n",
       "    name = 'MAGBERR'; format = 'E'\n",
       "    name = 'MAGRERR'; format = 'E'\n",
       "    name = 'MAGIERR'; format = 'E'\n",
       "    name = 'RG'; format = 'E'\n",
       "    name = 'E2'; format = 'E'\n",
       "    name = 'PA'; format = 'E'\n",
       "    name = 'PGAL'; format = 'E'\n",
       "    name = 'SFD_EBV'; format = 'E'\n",
       "    name = 'M_B'; format = 'E'\n",
       "    name = 'UB'; format = 'E'\n",
       "    name = 'OBJNAME'; format = '8A'\n",
       "    name = 'MASK'; format = 'J'\n",
       "    name = 'SLIT'; format = 'J'\n",
       "    name = 'DATE'; format = '10A'\n",
       "    name = 'MJD'; format = 'E'\n",
       "    name = 'SLITRA'; format = 'E'\n",
       "    name = 'SLITDEC'; format = 'E'\n",
       "    name = 'SLITPA'; format = 'E'\n",
       "    name = 'SLITLEN'; format = 'E'\n",
       "    name = 'Z'; format = 'E'\n",
       "    name = 'ZBEST'; format = 'E'\n",
       "    name = 'ZERR'; format = 'E'\n",
       "    name = 'ZQUALITY'; format = 'I'\n",
       "    name = 'CLASS'; format = '6A'\n",
       "    name = 'SUBCLASS'; format = '6A'\n",
       "    name = 'RCHI2'; format = 'E'\n",
       "    name = 'DOF'; format = 'J'\n",
       "    name = 'VDISP'; format = 'E'\n",
       "    name = 'VDISPERR'; format = 'E'\n",
       "    name = 'COMMENT'; format = '47A'\n",
       ")"
      ]
     },
     "execution_count": 186,
     "metadata": {},
     "output_type": "execute_result"
    }
   ],
   "source": [
    "data.columns"
   ]
  },
  {
   "cell_type": "raw",
   "id": "b5f3f2ce-c321-4d7b-8561-594a129157ed",
   "metadata": {},
   "source": [
    "CIGALE needs redshift and the spectral irradiance at certain filters. Redshift is provided by ZBEST (if ZQUALITY > 3), and the irradiance is provided by the MAGB, MAGR, and MAGI. \n",
    "\n",
    "We'll need to convert from AB magnitude to Janskys.\n",
    "\n",
    "B, R, and I are different spectral filters. The imaging insurement's response to light (transmission) at different wavelengths for each filter can be found on UCI's website as well. This will be used to make filters for CIGALE.\n",
    "\n",
    "Let's extract the fields we need."
   ]
  },
  {
   "cell_type": "code",
   "execution_count": 224,
   "id": "7e5d39b0-fef4-4aff-8952-f5c33d69bb14",
   "metadata": {
    "scrolled": true
   },
   "outputs": [],
   "source": [
    "id = data.field('OBJNO')\n",
    "redshift = data.field('ZBEST')\n",
    "redshift_quality = data.field('ZQUALITY')\n",
    "for i in range(len(redshift)): # from what I can tell the redshifts are already negaitve if quality is < 3, so this is redundent.\n",
    "    if redshift_quality[i] < 3:\n",
    "        redshift[i] = -1 # negative redshift will tell CIGALE to find redshift on its own"
   ]
  },
  {
   "cell_type": "code",
   "execution_count": 225,
   "id": "8716ce07-4e19-494a-89fa-c840009433f9",
   "metadata": {},
   "outputs": [],
   "source": [
    "magb = data.field('MAGB')\n",
    "magr = data.field('MAGR')\n",
    "magi = data.field('MAGI')\n",
    "\n",
    "magb_err = data.field('MAGBERR')\n",
    "magr_err = data.field('MAGRERR')\n",
    "magi_err = data.field('MAGIERR')\n",
    "\n",
    "hdul.close()"
   ]
  },
  {
   "cell_type": "code",
   "execution_count": 226,
   "id": "5c88a8bd-0b6b-4b0d-a117-3464cacd7b31",
   "metadata": {},
   "outputs": [],
   "source": [
    "# Because I can't propogate error we will be subtracting/adding the error to the value before converting. \n",
    "magb_low = magb + magb_err # For magnitudes, lower is higher\n",
    "magb_high = magb - magb_err\n",
    "magr_low = magr + magr_err\n",
    "magr_high = magr - magr_err\n",
    "magi_low = magi + magi_err\n",
    "magi_high = magi - magi_err"
   ]
  },
  {
   "cell_type": "code",
   "execution_count": 227,
   "id": "e76ff307-0383-4c07-84aa-fd730fb3cf4f",
   "metadata": {},
   "outputs": [
    {
     "name": "stderr",
     "output_type": "stream",
     "text": [
      "/var/folders/xw/8q63tcw17z11v0p_wlgx3vqh0000gn/T/ipykernel_49693/1756166279.py:2: RuntimeWarning: overflow encountered in power\n",
      "  flux_b_low = 10**((magb_low-8.90)/-2.5)\n",
      "/var/folders/xw/8q63tcw17z11v0p_wlgx3vqh0000gn/T/ipykernel_49693/1756166279.py:3: RuntimeWarning: overflow encountered in power\n",
      "  flux_b_high = 10**((magb_high-8.90)/-2.5)\n",
      "/var/folders/xw/8q63tcw17z11v0p_wlgx3vqh0000gn/T/ipykernel_49693/1756166279.py:6: RuntimeWarning: overflow encountered in power\n",
      "  flux_i_low = 10**((magi_low-8.90)/-2.5)\n",
      "/var/folders/xw/8q63tcw17z11v0p_wlgx3vqh0000gn/T/ipykernel_49693/1756166279.py:7: RuntimeWarning: overflow encountered in power\n",
      "  flux_i_high = 10**((magi_high-8.90)/-2.5)\n"
     ]
    }
   ],
   "source": [
    "# Mag = -2.5*log10(spec flux density) + 8.90. Invert to find spec flux density in Jy\n",
    "flux_b_low = 10**((magb_low-8.90)/-2.5)\n",
    "flux_b_high = 10**((magb_high-8.90)/-2.5)\n",
    "flux_r_low = 10**((magr_low-8.90)/-2.5)\n",
    "flux_r_high = 10**((magr_high-8.90)/-2.5)\n",
    "flux_i_low = 10**((magi_low-8.90)/-2.5)\n",
    "flux_i_high = 10**((magi_high-8.90)/-2.5)\n",
    "\n",
    "flux_b_low *= 1000; flux_r_low *= 1000; flux_i_low *= 1000 # convert to mJy for Cigale\n",
    "flux_b_high *= 1000; flux_r_high *= 1000; flux_i_high *= 1000\n",
    "\n",
    "# float32 too small :("
   ]
  },
  {
   "cell_type": "code",
   "execution_count": 228,
   "id": "c142db93-00db-4f26-af4f-066e487d0c9c",
   "metadata": {},
   "outputs": [
    {
     "name": "stderr",
     "output_type": "stream",
     "text": [
      "/var/folders/xw/8q63tcw17z11v0p_wlgx3vqh0000gn/T/ipykernel_49693/3393228405.py:1: RuntimeWarning: invalid value encountered in subtract\n",
      "  flux_b_err = (flux_b_high - flux_b_low) / 2\n",
      "/var/folders/xw/8q63tcw17z11v0p_wlgx3vqh0000gn/T/ipykernel_49693/3393228405.py:5: RuntimeWarning: invalid value encountered in subtract\n",
      "  flux_i_err = (flux_i_high - flux_i_low) / 2\n"
     ]
    }
   ],
   "source": [
    "flux_b_err = (flux_b_high - flux_b_low) / 2\n",
    "flux_b = flux_b_err + flux_b_low\n",
    "flux_r_err = (flux_r_high - flux_r_low) / 2\n",
    "flux_r = flux_r_err + flux_r_low\n",
    "flux_i_err = (flux_i_high - flux_i_low) / 2\n",
    "flux_i = flux_i_err + flux_i_low"
   ]
  },
  {
   "cell_type": "raw",
   "id": "ab242d3e-f102-43e5-8de3-d6fd0f5a6c02",
   "metadata": {},
   "source": [
    "Now we'll construct an ASCII table in the format at the top of this notebook from the fields we have: ID, redshift, and flux/spectral density/spectral irradiance."
   ]
  },
  {
   "cell_type": "code",
   "execution_count": 242,
   "id": "a19517d3-577b-43f4-ae75-b2231b1b755d",
   "metadata": {},
   "outputs": [],
   "source": [
    "data = Table()"
   ]
  },
  {
   "cell_type": "code",
   "execution_count": 244,
   "id": "27384d3a-a1bc-4c23-942c-4a7537d6ea45",
   "metadata": {},
   "outputs": [
    {
     "name": "stdout",
     "output_type": "stream",
     "text": [
      "  #id     redshift    CFHT_12k_b  CFHT_12k_b_err   CFHT_12k_r  CFHT_12k_r_err  CFHT_12k_i  CFHT_12k_i_err    id   \n",
      "-------- ---------- ------------- -------------- ------------- -------------- ------------ -------------- --------\n",
      "11001673       -1.0  0.0014622814  3.5670877e-05  0.0020084304  4.0770276e-05 0.0033676012  9.0710586e-05 11001673\n",
      "11001699  0.2906078  0.0054067736   4.482176e-05   0.035166614  4.7879294e-05  0.055203736 0.000105706975 11001699\n",
      "11001770       -1.0 0.00079998665  5.0234812e-05 0.00083139597  5.8560923e-05 0.0009042048  0.00012616778 11001770\n",
      "11001800       -1.0  0.0002694832  4.1713072e-05  0.0014348654  4.3921696e-05 0.0021282318   9.726209e-05 11001800\n",
      "11001860  0.9576695 0.00064277794  4.6840287e-05  0.0015835026  4.9485883e-05  0.003396938 0.000109568355 11001860\n",
      "11001861  0.9090429  0.0018161373   5.917519e-05  0.0027153925   6.903859e-05 0.0047345203   0.0001525199 11001861\n",
      "11001878 0.50297445  0.0009351574   4.784952e-05  0.0015523545  4.5123685e-05  0.002034542   9.970687e-05 11001878\n",
      "11001898  0.6498387 0.00077393325    6.39747e-05   0.002023685   7.456617e-05  0.003307547  0.00016473583 11001898\n",
      "11001909  0.6794403   0.002081029  4.7024107e-05   0.012258481  5.0371047e-05   0.02245365  0.00011130888 11001909\n",
      "11001922 0.07407781  0.0056853043   7.448415e-05   0.011390695   8.354196e-05  0.013719693  0.00019605504 11001922\n",
      "11001927 0.68388146 0.00028261723  5.3607342e-05  0.0054979343   6.228476e-05  0.015037004  0.00013770629 11001927\n",
      "11001934 0.65113693   0.002546555  5.0862436e-05   0.005074322  5.9430255e-05 0.0067420593  0.00013137027 11001934\n",
      "11001950       -1.0  0.0013220627  6.3112704e-05   0.003933884  5.9808488e-05 0.0051394175  0.00013243686 11001950\n",
      "11001974 0.93201214   0.002196184  3.8195052e-05  0.0037459082  4.0779356e-05 0.0062165884  8.9981826e-05 11001974\n",
      "11001978       -1.0  0.0005997225   3.526808e-05  0.0010480215   4.079065e-05 0.0013881947   8.973043e-05 11001978\n",
      "11002016  1.0579633 0.00083227264  3.5158126e-05  0.0009958029  4.0780986e-05 0.0015330394   8.985039e-05 11002016\n",
      "11002019  0.6494467  0.0009219724  4.4068205e-05  0.0028736133  4.6721427e-05 0.0045211995  0.00010271161 11002019\n",
      "11002024 0.74549794 0.00081532454  5.2048126e-05  0.0013164745  4.8483955e-05 0.0021583391 0.000106098945 11002024\n",
      "11002039       -1.0 0.00021269915   3.546998e-05 0.00084218173  4.4699525e-05 0.0016500356  8.9625595e-05 11002039\n",
      "11002051       -1.0 0.00052095886  5.2403295e-05  0.0019078334  5.5385695e-05 0.0039695883 0.000121503836 11002051\n",
      "11002064       -1.0  0.0005138817   6.167361e-05  0.0014237079   6.276602e-05 0.0018755349  0.00013248384 11002064\n",
      "11002085       -1.0  0.0013798643  4.0329236e-05  0.0016983298   4.647154e-05 0.0021855258  0.00010184629 11002085\n",
      "11002114       -1.0  0.0003212933  6.5710425e-05  0.0012063825    7.20548e-05 0.0018751309   0.0001925184 11002114\n",
      "     ...        ...           ...            ...           ...            ...          ...            ...      ...\n",
      "43100641  0.7895819  0.0010755747  0.00014856781  0.0027131997   7.959921e-05 0.0045525823  0.00010573515 43100641\n",
      "43100645  0.7228834  0.0013263128  0.00016578945    0.00457778  7.5645046e-05  0.008954286  0.00010329392 43100645\n",
      "43100647       -1.0 0.00036066456  0.00016414555  0.0012533807   7.378677e-05 0.0035296988 0.000105381245 43100647\n",
      "43100647       -1.0 0.00036066456  0.00016414555  0.0012533807   7.378677e-05 0.0035296988 0.000105381245 43100647\n",
      "43100648       -1.0 0.00035854016  0.00029949227  0.0016826917    8.61201e-05 0.0060246447  0.00012299861 43100648\n",
      "43100664 0.97268736 0.00075190805  0.00017421483   0.001250484  6.9098896e-05 0.0022850507 0.000102911494 43100664\n",
      "43100767       -1.0  0.0010723545  0.00017485852  0.0011819163   8.069916e-05 0.0014279578 0.000117768825 43100767\n",
      "43100770  0.8465407  0.0011823205  0.00016850262   0.002132529  6.8900525e-05  0.004385722  0.00011183857 43100770\n",
      "43100777       -1.0  0.0009861777  0.00015516969  0.0012310947   7.048983e-05 0.0019216863  0.00010636676 43100777\n",
      "43100908 0.09927396  0.0013890426  0.00017964898  0.0014860268   8.076092e-05 0.0016808175  0.00012004591 43100908\n",
      "43100916       -1.0  0.0011769295  0.00020086055  0.0016890483   9.092275e-05  0.002512924  0.00013618323 43100916\n",
      "43100920       -1.0  0.0010143077  0.00018934332  0.0012009053   8.737162e-05 0.0014458555   0.0001306092 43100920\n",
      "43100927       -1.0  0.0010306733     0.00020108   0.001415221   9.157951e-05 0.0023531863  0.00011929043 43100927\n",
      "43100948  0.8661584  0.0004987096  0.00012533356  0.0008722844   5.376729e-05 0.0014414138  8.0071215e-05 43100948\n",
      "43101028   1.260415  0.0007197545   0.0001714374  0.0013540942   7.586612e-05 0.0024572895 0.000118942815 43101028\n",
      "43101029  0.6079842 0.00071293686   0.0001470515  0.0012104032   6.523967e-05 0.0020506668  0.00010228605 43101029\n",
      "43101046       -1.0 0.00031111535  0.00016504784  0.0023451522   7.228728e-05 0.0071177506  0.00010721339 43101046\n",
      "43101056       -1.0  0.0013300783  0.00015291682  0.0016151443   6.858067e-05 0.0019035221  0.00010419445 43101056\n",
      "43101159       -1.0 0.00079494575  0.00015895808  0.0010536448  0.00012751477 0.0014427912  0.00010213797 43101159\n",
      "43101172 0.86345786  0.0009508979  0.00012750167  0.0016133438   9.322143e-05 0.0024585263  9.0178684e-05 43101172\n",
      "43101191  1.1259753  0.0014644293  0.00020244141  0.0036984207  9.9025085e-05  0.008495711  0.00014051748 43101191\n",
      "43101206  0.6970397 0.00050395227  0.00013508371  0.0023260242  6.1429455e-05  0.005858317  0.00010064081 43101206\n",
      "43101237 0.88260406  0.0003361645  0.00018459721    0.00417046  9.1366004e-05  0.014519967 0.000117946416 43101237\n",
      "43101239 0.60503745 0.00093770865  0.00020563803  0.0037338692   8.262892e-05  0.009027081  0.00011956366 43101239\n",
      "Length = 52989 rows\n"
     ]
    }
   ],
   "source": [
    "data['id'] = id\n",
    "data['redshift'] = redshift\n",
    "data['CFHT_CFH12k.B'] = flux_b # CFH 12k was the insturment used, so I included it in the filter name.\n",
    "data['CFHT_CFH12k.B_err'] = flux_b_err\n",
    "data['CFHT_CFH12k.R'] = flux_r\n",
    "data['CFHT_CFH12k.R_err'] = flux_r_err\n",
    "data['CFHT_CFH12k.I'] = flux_i\n",
    "data['CFHT_CFH12k.I_err'] = flux_i_err\n",
    "print(data)\n",
    "ascii.write(data, 'DEEP2.dat', overwrite=True)"
   ]
  },
  {
   "cell_type": "raw",
   "id": "f337f0af-7e9d-4cd3-a9b6-6d72807d5d16",
   "metadata": {},
   "source": [
    "This should be our data file all done! Luckily I found filters for CHFT12k on the SVO filter profile service. After adding a preamble to them I will put them in Cigale's folder and run the command to add them."
   ]
  }
 ],
 "metadata": {
  "kernelspec": {
   "display_name": "Python 3 (ipykernel)",
   "language": "python",
   "name": "python3"
  },
  "language_info": {
   "codemirror_mode": {
    "name": "ipython",
    "version": 3
   },
   "file_extension": ".py",
   "mimetype": "text/x-python",
   "name": "python",
   "nbconvert_exporter": "python",
   "pygments_lexer": "ipython3",
   "version": "3.11.5"
  }
 },
 "nbformat": 4,
 "nbformat_minor": 5
}
