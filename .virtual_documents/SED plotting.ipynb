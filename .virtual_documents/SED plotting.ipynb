


import numpy as np
import matplotlib.pyplot as plt

from astropy.io import ascii
from astropy.table import Table

#import astropy.units as u
#from astropy.io import fits


# Declarations 
data_file = "../ZFOURGE/data/failed_cdfs_table" # This file contains photometric data for all 555 failed ZFOURGE CDFS galaxies
filters_dir = "../ZFOURGE/data/Cowley CIGALE Filters/" # This folder contains all filter transmission tables, used to find central wavelength of filters in table
filter_match = "../ZFOURGE/data/filter_match_table" # An ASCII table with the ZFOURGE filter name in 1st collumn, and filter transmission file name in 2nd col.
output_dir = "../ZFOURGE/outputs/plots/failed_sed_plots/" # Directory to output all galaxy plots


# create table from data, set -99 to null
table = Table.read(data_file, format='ascii')
for c in table.columns:
    for r in range(len(table)):
        if table[c][r] == -99.0: 
            table[c][r] = np.nan


# Fills in a new wavelength column in filter table
# wavelength in units of angstroms



filter_table = Table.read(filter_match, format='ascii.commented_header')
filter_table.add_column(np.zeros(1), name='central_wavelength')

for i in range(2, len(filter_table), 2): # starts at 3rd row to skip id and redshift, step = 2 to skip err
    # Open each transmission table in filters/, gather all transmission values, find max, then use that wavelength value.
    trans_table = Table.read(filters_dir + filter_table['CIGALE'][i] + '.dat', format='ascii')
    max_row = trans_table[0]
    for j in trans_table:
        if j['col2'] > max_row['col2']:
            max_row = j
    filter_table['central_wavelength'][i] = max_row['col1']

filter_table[0:]


# Create ordered array of all wavelength values.
wavelengths = np.array(filter_table[2::2]['central_wavelength'], dtype='int')

# Create a 2d ordered array of fluxes for each galaxy
fluxes = np.empty((len(table),len(wavelengths)))
for i in range(len(filter_table[2::2])):
    fluxes[:,i] = table[filter_table['ZFOURGE'][(i+1)*2]] * 0.3631 / 1000 # Converts fluxes into units of mJy

# Create same array for errors
errors = np.empty((len(table),len(wavelengths)))
for i in range(len(filter_table[3::2])):
    errors[:,i] = table[filter_table['ZFOURGE'][(i+2)*2-1]] * 0.3631 / 1000 # Sanity check: correct error propogation?
    for j in range(len(errors[:,i])):
        if errors[j,i] < 0: errors[j,i] = np.nan # Sets negative errors to NaN 


# Plot!
for i in range(len(fluxes)):
    plt.errorbar(wavelengths, fluxes[i], yerr=errors[i], ecolor=(0.5,0.5,0.5), fmt='.', color=(1-(i/len(fluxes)),0,i/len(fluxes)))
    plt.xscale('log')
    plt.yscale('log')
    plt.axis((3000,90000,0.000001,3))
    plt.xlabel("Wavelength (angstroms)")
    plt.ylabel("Flux (mJy)")
    plt.title('ZFOURGE ID #' + str(table[i]['id']))
    plt.savefig(output_dir + 'ZFOURGE ID #' + str(table[i]['id']) + '.png')
    plt.close()


table[7]


wavelengths


table[96]['e_IRAC_80'] # lol
