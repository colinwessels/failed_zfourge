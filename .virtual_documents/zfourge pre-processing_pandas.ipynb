


#from astropy.io import ascii
#from astropy.table import Table
import os
import pandas as pd
import numpy as np


# Declerations
failed_cdfs_dir = os.path.join('..', 'ZFOURGE', 'data', 'cdfs_cigale_failed_ids') # List of failed galaxies by ZFOURGE ID, seperated by \n
cdfs_dir = os.path.join('..', 'ZFOURGE', 'data', 'cdfs', 'cdfs.v1.6.11.cat') # ZFOURGE CDFS field photometry data
cdfs_z_dir = os.path.join('..', 'ZFOURGE', 'data', 'cdfs', 'cdfs.v1.6.9.zout') # Output of Eazy, contains redshift data
filter_match = os.path.join('..', 'ZFOURGE', 'data', 'filter_match_table') # An ASCII table with the ZFOURGE filter name in 1st collumn, and filter transmission file name in 2nd col.
output_dir = os.path.join('..', 'ZFOURGE', 'data', 'working_sample') # Directory for output ascii table

output_failed_galaxies = True # True: will output all galaxies with ids found in list of failed ids.
only_zfourge_filters = True # True: will only use j1, j2, j3, hs, hl, and ks bands. False: uses most avalbile bands
add_random_successful_galaxy = True # True: will add a randomly selected successful galaxy to output
use_z_spec = True # True: will replace redshift in output with z_spec if value != -99.0
manual_galaxy_ids = [44] # Optional list of manually selected galaxy ids to add to output. Expected to be non-failed galxies.


def Read_Ascii(dir):
    # Returns dataframe
    
    with open(dir, 'r') as table:
        header = table.readline()[1:].split() # slice to skip over # character
        #header = [''.join([ch if ch.isalpha() else '' for ch in elem]) for elem in header] # removes non-alphabt characters such as _
    return pd.read_csv(dir, names=header, encoding='ascii', comment='#', delim_whitespace=True, index_col='id')


with open(failed_cdfs_dir, 'r') as failed_ids:
    failed_cdfs = [int(id) for id in failed_ids.readlines()[1:]] # skip header row

cdfs_table = Read_Ascii(cdfs_dir)
print(cdfs_table)


# Adds failed galxies when true
if output_failed_galaxies == True:
    failed_cdfs_table = cdfs_table[cdfs_table.index.isin(failed_cdfs)]
        
# Adds manually selected galaxies when provided
failed_cdfs_table = pd.concat([failed_cdfs_table, 
                               cdfs_table[cdfs_table.index.isin(manual_galaxy_ids)]], 
                               ignore_index=True)
if any(item in failed_cdfs for item in manual_galaxy_ids):
    print("Manually selected galaxy is in list of galaxies. This galaxy may appear twice in output.")

# Adds random galaxy not already included when true
if add_random_successful_galaxy == True:
    i = int(np.random.rand()*len(cdfs_table)) # i <- [0, 30911)
    while i+1 in failed_cdfs: # +1 b/c row number (i) is 1 less than id number.
        i = int(np.random.rand()*len(cdfs_table))
    failed_cdfs_table = pd.concat([failed_cdfs_table, cdfs_table.loc[i:i]], ignore_index=True)

print(failed_cdfs_table)


# Access and parse redshift data
cdfs_z_table = Read_Ascii(cdfs_z_dir)
failed_cdfs_z_table = cdfs_z_table[cdfs_z_table['id'].isin(failed_cdfs_table['id'])]
print(failed_cdfs_z_table)


# Defines output table and adds id and redshift columns
output = pd.merge(failed_cdfs_table, failed_cdfs_z_table, how='left', on='id')
output = output[['id', 'z_peak']] # not very efficient to delete most of the dataframe just to add everything back later
print(output)


# Reads matching table
filter_table = Read_Ascii(filter_match)
print(filter_table)


# Cell adds FourStar filters only
if only_zfourge_filters == True:
    zf_with_ids = pd.concat([failed_cdfs_table['id'], 
                            failed_cdfs_table.loc[:, filter_table.loc[13:24, 'ZFOURGE']]],
                            axis=1)
    # this is done so that the merge can be done by the id column
    output = pd.merge(output, zf_with_ids, how='left', on='id') # do not run this more than once!!!
    print(output)


# Cell adds (mostly) all filters
#if only_zfourge_filters == False:
#    for i in range(2, len(filter_table)): # goes through every filter in the match table
#        output.add_column(failed_cdfs_table[filter_table['ZFOURGE'][i]], name = filter_table['CIGALE'][i])

if only_zfourge_filters == False:
    all_with_ids = pd.concat([failed_cdfs_table['id'], 
                            failed_cdfs_table.loc[:, filter_table['ZFOURGE']]],
                            axis=1)
    # this is done so that the merge can be done by the id column
    output = pd.merge(output, zf_with_ids, how='left', on='id') # do not run this more than once!!!
    print(output)


# Renames output to CIGALE format using matching table

#output.rename(columns={'id':'id', 'z_peak':'redshift', 'foo':'bar'}, inplace=True)
# TODO ^^
print(failed_cdfs_table.loc[:, filter_table['ZFOURGE']])


# replaces photo z with z_spec if avalible
for i in range(len(output)):
    if cdfs_z_table['z_spec'][output['id'][i]-1] > -99.0:
        output['redshift'][i] = cdfs_z_table['z_spec'][output['id'][i]-1]


# Convert units of flux to mJy, and sets -99 to NaN
for i in output.columns[2:]:
    for j in range(len(i)):
        if output[i][j] == -99:
            output[i][j] = np.nan
    output[i] = output[i] * 0.3631 / 1000


output.write(output_dir, format='ascii', overwrite=True)


output
