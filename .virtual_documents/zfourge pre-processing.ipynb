


from astropy.io import ascii
from astropy.table import Table
import numpy as np


# Declerations
failed_cdfs_dir = '../ZFOURGE/data/cdfs_cigale_failed_ids' # List of failed galaxies by ZFOURGE ID, seperated by \n
cdfs_dir = '../ZFOURGE/data/cdfs/cdfs.v1.6.11.cat' # ZFOURGE CDFS field photometry data
cdfs_z_dir = '../ZFOURGE/data/cdfs/cdfs.v1.6.9.zout' # Output of Eazy, contains redshift data
filter_match = '../ZFOURGE/data/filter_match_table' # An ASCII table with the ZFOURGE filter name in 1st collumn, and filter transmission file name in 2nd col.
output_dir = '../ZFOURGE/data/working_sample' # Directory for output ascii table

output_failed_galaxies = True # True: will output all galaxies with ids found in list of failed ids.
only_zfourge_filters = False # True: will only use j1, j2, j3, hs, hl, and ks bands. False: uses most avalbile bands
add_random_successful_galaxy = False # True: will add a randomly selected successful galaxy to output
use_z_spec = True # True: will replace redshift in output with z_spec if value != -99.0
manual_galaxy_ids = [] # Optional list of manually selected galaxy ids to add to output. Expected to be non-failed galxies.


# Read list of failed ids, read cdfs photometry data, copy failed galaxies to new table.
failed_cdfs_table = Table.read(failed_cdfs_dir, format='ascii.commented_header')
failed_cdfs = np.array(failed_cdfs_table['__id'])
del(failed_cdfs_table)

cdfs_table = Table.read(cdfs_dir, format='ascii')
failed_cdfs_table = cdfs_table[:0].copy() # copies column headers of cdfs table, but no data (rows).


# Adds failed galxies when true
if output_failed_galaxies == True:
    for i in failed_cdfs:
        failed_cdfs_table.add_row(cdfs_table[i-1]) # row 0 of table is ID number 1.
        
# Adds manually selected galaxies when provided
for i in manual_galaxy_ids:
    failed_cdfs_table.add_row(cdfs_table[i-1])
    if i in failed_cdfs:
        print("Manually selected galaxy is in list of galaxies. This galaxy may appear twice in output.")

# Adds random galaxy not already included when true
if add_random_successful_galaxy == True:
    i = int(np.random.rand()*len(cdfs_table)) # i <- [0, 30911)
    while i+1 in failed_cdfs_table['id']: # +1 b/c row number (i) is 1 less than id number.
        i = int(np.random.rand()*len(cdfs_table))
    failed_cdfs_table.add_row(cdfs_table[i-1])


# Access and parse redshift data
cdfs_z_table = Table.read(cdfs_z_dir, format='ascii.commented_header')
failed_cdfs_z_table = cdfs_z_table[:0].copy()

for i in failed_cdfs_table['id']:
    failed_cdfs_z_table.add_row(cdfs_z_table[i-1])


# Cell defines output table and adds id and redshift columns
output = Table()
filter_table = Table.read(filter_match, format='ascii.commented_header')

output.add_columns([failed_cdfs_table['id'],failed_cdfs_z_table['z_peak']], names = ['id','redshift'])


# Cell adds FourStar filters only
if only_zfourge_filters == True:
    for i in range(14,26): # indexes of FourStar filters in filter_table
        output.add_column(failed_cdfs_table[filter_table['ZFOURGE'][i]], name = filter_table['CIGALE'][i])


# Cell adds (mostly) all filters
if only_zfourge_filters == False:
    for i in range(2, len(filter_table)): # goes through every filter in the match table
        output.add_column(failed_cdfs_table[filter_table['ZFOURGE'][i]], name = filter_table['CIGALE'][i])


# replaces photo z with z_spec if avalible
for i in range(len(output)):
    if cdfs_z_table['z_spec'][output['id'][i]-1] > -99.0:
        output['redshift'][i] = cdfs_z_table['z_spec'][output['id'][i]-1]


# Convert units of flux to mJy, and sets -99 to NaN
for i in output.columns[2:]:
    for j in range(len(i)):
        if output[i][j] == -99:
            output[i][j] = np.nan
    output[i] = output[i] * 0.3631 / 1000


output.write(output_dir, format='ascii', overwrite=True)


output
