


from astropy.io import ascii
from astropy.table import Table
import numpy as np
import matplotlib.pyplot as plt


# Declerations
failed_cdfs_dir = '../ZFOURGE/data/cdfs_cigale_failed_ids' # List of failed galaxies by ZFOURGE ID, seperated by \n
cdfs_dir = '../ZFOURGE/data/cdfs/cdfs.v1.6.11.cat' # ZFOURGE CDFS field photometry data
cdfs_z_dir = '../ZFOURGE/data/cdfs/cdfs.v1.6.9.zout' # Output of Eazy, contains redshift data


failed_cdfs_table = Table.read(failed_cdfs_dir, format='ascii.commented_header')
failed_cdfs = np.array(failed_cdfs_table['__id'])
del(failed_cdfs_table)


cdfs_table = Table.read(cdfs_dir, format='ascii')
failed_cdfs_table = cdfs_table[:0].copy() # copies column header of cdfs table, but no data (rows).


for i in failed_cdfs:
    failed_cdfs_table.add_row(cdfs_table[i-1]) # row 0 of array is ID number 1.


# Access and parse redshift data
cdfs_z_table = Table.read(cdfs_z_dir, format='ascii.commented_header')
failed_cdfs_z_table = cdfs_z_table[:0].copy()


for i in failed_cdfs:
    failed_cdfs_z_table.add_row(cdfs_z_table[i-1])


failed_cdfs_z_table.write('../ZFOURGE/data/failed_cdfs_z_table', format='ascii.commented_header', overwrite=True)
failed_cdfs_table.write('../ZFOURGE/data/failed_cdfs_table', format='ascii.commented_header', overwrite=True)





np.sum(failed_cdfs_table['use']) # 55 / 555 ~ 0.099
np.sum(cdfs_table['use']) # 13299 / 30911 ~ 0.430

np.sum(failed_cdfs_table['star']) # 36 / 555 ~ 0.065
np.sum(cdfs_table['star']) # 337 / 30911 ~ 0.011

np.sum(failed_cdfs_table['nearstar']) # 24 / 555 ~ 0.043
np.sum(cdfs_table['nearstar']) # 576 / 30911 ~ 0.019


failed_cdfs_avgs = {}
for i in failed_cdfs_table.columns:
    avg = 0.
    count = 0
    for j in range(len(failed_cdfs_table)):
        if failed_cdfs_table[i][j] != -99:
            avg += failed_cdfs_table[i][j]
            count += 1
    if count == 0:
        avg = 0
    else:
        avg /= count
    failed_cdfs_avgs[i] = avg, count
failed_cdfs_avgs


cdfs_avgs = {}
for i in cdfs_table.columns:
    avg = 0.
    count = 0
    for j in range(len(cdfs_table)):
        if cdfs_table[i][j] != -99:
            avg += cdfs_table[i][j]
            count += 1
    if count == 0:
        avg = 0
    else:
        avg /= count
    cdfs_avgs[i] = avg, count
cdfs_avgs





failed_cdfs_z_avgs = {}
for i in failed_cdfs_z_table.columns:
    avg = 0.
    count = 0
    for j in range(len(failed_cdfs_z_table)):
        if failed_cdfs_z_table[i][j] != -99 and failed_cdfs_z_table[i][j] < 1000000: # added and failed_cdfs_z_table[i][j] < 1000000
            avg += failed_cdfs_z_table[i][j]
            count += 1
    if count == 0:
        avg = 0
    else:
        avg /= count
    failed_cdfs_z_avgs[i] = avg, count
failed_cdfs_z_avgs


cdfs_z_avgs = {}
for i in cdfs_z_table.columns:
    avg = 0.
    count = 0
    for j in range(len(cdfs_z_table)):
        if cdfs_z_table[i][j] != -99 and np.isnan(cdfs_z_table[i][j]) == False and np.isinf(cdfs_z_table[i][j]) == False and cdfs_z_table[i][j] < 1000000:
            avg += cdfs_z_table[i][j]
            count += 1
    if count == 0:
        avg = 0
    else:
        avg /= count
    cdfs_z_avgs[i] = avg, count
cdfs_z_avgs





z = np.array([failed_cdfs_z_table['z_peak'],
              failed_cdfs_z_table['z_peak'] - failed_cdfs_z_table['l68'],
              failed_cdfs_z_table['u68'] - failed_cdfs_z_table['z_peak']], ndmin = 2)

for i in range(len(z)):
    for j in range(len(z[i])):
        if z[i,j] < 0: z[i,j] = np.nan

foo = range(1,556)
plt.errorbar(foo,y=z[0],fmt='o',yerr=z[1:3])


failed_cdfs_z_table


z[0]


range(len(z[0]))



